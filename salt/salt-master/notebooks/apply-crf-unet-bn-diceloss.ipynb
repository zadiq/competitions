{
 "cells": [
  {
   "cell_type": "markdown",
   "metadata": {
    "_uuid": "f2241699116f2287ca309066b281355349390649"
   },
   "source": [
    "In this notebook I use Conditional Random Fields on the [predicted masks](https://www.kaggle.com/dingli/seismic-data-analysis-with-u-net)."
   ]
  },
  {
   "cell_type": "markdown",
   "metadata": {
    "_uuid": "1902f7bca29e35b24629ae6491d8aa1376e7e5db"
   },
   "source": [
    "# Loading Necessary Libraries"
   ]
  },
  {
   "cell_type": "code",
   "execution_count": null,
   "metadata": {
    "_cell_guid": "b1076dfc-b9ad-4769-8c92-a6c4dae69d19",
    "_kg_hide-input": true,
    "_uuid": "8f2839f25d086af736a60e9eeb907d3b93b6e0e5",
    "collapsed": true
   },
   "outputs": [],
   "source": [
    "import numpy as np\n",
    "import pydensecrf.densecrf as dcrf\n",
    "from skimage.io import imread, imsave\n",
    "from pydensecrf.utils import unary_from_labels, create_pairwise_bilateral\n",
    "from skimage.color import gray2rgb\n",
    "from skimage.color import rgb2gray\n",
    "import matplotlib.pyplot as plt\n",
    "import pandas as pd\n",
    "from tqdm import tqdm\n",
    "%matplotlib inline"
   ]
  },
  {
   "cell_type": "code",
   "execution_count": null,
   "metadata": {
    "_kg_hide-input": true,
    "_uuid": "a5f373d78dee2d27de0ae744e7356412a5895f2e",
    "collapsed": true
   },
   "outputs": [],
   "source": [
    "def rle_decode(rle_mask):\n",
    "    '''\n",
    "    rle_mask: run-length as string formated (start length)\n",
    "    shape: (height,width) of array to return \n",
    "    Returns numpy array, 1 - mask, 0 - background\n",
    "\n",
    "    '''\n",
    "    s = rle_mask.split()\n",
    "    starts, lengths = [np.asarray(x, dtype=int) for x in (s[0:][::2], s[1:][::2])]\n",
    "    starts -= 1\n",
    "    ends = starts + lengths\n",
    "    img = np.zeros(101*101, dtype=np.uint8)\n",
    "    for lo, hi in zip(starts, ends):\n",
    "        img[lo:hi] = 1\n",
    "    return img.reshape(101,101)"
   ]
  },
  {
   "cell_type": "markdown",
   "metadata": {
    "_uuid": "69a4b22a2b9472ecbbcd775e2b9b04bfd8948207"
   },
   "source": [
    "# Visualizing some of the predicted masks"
   ]
  },
  {
   "cell_type": "code",
   "execution_count": null,
   "metadata": {
    "_uuid": "508d7a27e3ebd67695c3c2d1bec74a1e69e06177"
   },
   "outputs": [],
   "source": [
    "\"\"\"\n",
    "reading and decoding the submission \n",
    "\n",
    "\"\"\"\n",
    "df = pd.read_csv('../input/seismic-data-analysis-with-u-net/sub-20180810-1857.csv')\n",
    "i = 0\n",
    "j = 0\n",
    "plt.figure(figsize=(30,15))\n",
    "plt.subplots_adjust(bottom=0.2, top=0.8, hspace=0.2)  #adjust this to change vertical and horiz. spacings..\n",
    "# Visualizing the predicted outputs\n",
    "while True:\n",
    "    if str(df.loc[i,'rle_mask'])!=str(np.nan):        \n",
    "        decoded_mask = rle_decode(df.loc[i,'rle_mask'])\n",
    "        plt.subplot(1,6,j+1)\n",
    "        plt.imshow(decoded_mask)\n",
    "        plt.title('ID: '+df.loc[i,'id'])\n",
    "        j = j + 1\n",
    "        if j>5:\n",
    "            break\n",
    "    i = i + 1"
   ]
  },
  {
   "cell_type": "markdown",
   "metadata": {
    "_uuid": "5819d741fea44f9e8f22bdcdac44dbbb7366017d"
   },
   "source": [
    "# Function to apply CRF"
   ]
  },
  {
   "cell_type": "code",
   "execution_count": null,
   "metadata": {
    "_kg_hide-input": false,
    "_uuid": "fc2b67b4b905a863a93d39ef353377656045aecd",
    "collapsed": true
   },
   "outputs": [],
   "source": [
    "#Original_image = Image which has to labelled\n",
    "#Mask image = Which has been labelled by some technique..\n",
    "def crf(original_image, mask_img):\n",
    "    \n",
    "    # Converting annotated image to RGB if it is Gray scale\n",
    "    if(len(mask_img.shape)<3):\n",
    "        mask_img = gray2rgb(mask_img)\n",
    "\n",
    "#     #Converting the annotations RGB color to single 32 bit integer\n",
    "    annotated_label = mask_img[:,:,0] + (mask_img[:,:,1]<<8) + (mask_img[:,:,2]<<16)\n",
    "    \n",
    "#     # Convert the 32bit integer color to 0,1, 2, ... labels.\n",
    "    colors, labels = np.unique(annotated_label, return_inverse=True)\n",
    "\n",
    "    n_labels = 2\n",
    "    \n",
    "    #Setting up the CRF model\n",
    "    d = dcrf.DenseCRF2D(original_image.shape[1], original_image.shape[0], n_labels)\n",
    "\n",
    "    # get unary potentials (neg log probability)\n",
    "    U = unary_from_labels(labels, n_labels, gt_prob=0.7, zero_unsure=False)\n",
    "    d.setUnaryEnergy(U)\n",
    "\n",
    "    # This adds the color-independent term, features are the locations only.\n",
    "    d.addPairwiseGaussian(sxy=(3, 3), compat=3, kernel=dcrf.DIAG_KERNEL,\n",
    "                      normalization=dcrf.NORMALIZE_SYMMETRIC)\n",
    "        \n",
    "    #Run Inference for 10 steps \n",
    "    Q = d.inference(10)\n",
    "\n",
    "    # Find out the most probable class for each pixel.\n",
    "    MAP = np.argmax(Q, axis=0)\n",
    "\n",
    "    return MAP.reshape((original_image.shape[0],original_image.shape[1]))"
   ]
  },
  {
   "cell_type": "code",
   "execution_count": null,
   "metadata": {
    "_uuid": "0b84a6ae09c51976d9e038b5e539198e9d6bfc22",
    "collapsed": true
   },
   "outputs": [],
   "source": [
    "test_path = '../input/tgs-salt-identification-challenge/test/images/'"
   ]
  },
  {
   "cell_type": "markdown",
   "metadata": {
    "_uuid": "188d6bb717e8a891e924d6151e116e169d372894"
   },
   "source": [
    "# Visualizing the effect of applying CRF"
   ]
  },
  {
   "cell_type": "code",
   "execution_count": null,
   "metadata": {
    "_kg_hide-input": true,
    "_uuid": "50bddd1a8652d2e51acecd9b275d1088f853f53a"
   },
   "outputs": [],
   "source": [
    "\"\"\"\n",
    "visualizing the effect of applying CRF\n",
    "\n",
    "\"\"\"\n",
    "np.random.seed(100)\n",
    "nImgs = 8\n",
    "i = np.random.randint(1000)\n",
    "j = 1\n",
    "plt.figure(figsize=(30,30))\n",
    "while True:\n",
    "    if str(df.loc[i,'rle_mask'])!=str(np.nan):        \n",
    "        decoded_mask = rle_decode(df.loc[i,'rle_mask'])        \n",
    "        orig_img = imread(test_path+df.loc[i,'id']+'.png')\n",
    "        #Applying CRF on FCN-16 annotated image\n",
    "        crf_output = crf(orig_img,decoded_mask)\n",
    "        plt.subplot(nImgs,4,4*j-3)\n",
    "        plt.imshow(orig_img)\n",
    "        plt.title('Original image')\n",
    "        plt.subplot(nImgs,4,4*j-2)\n",
    "        plt.imshow(np.fliplr(np.rot90(decoded_mask,k=3)))\n",
    "        plt.title('Original Mask')\n",
    "        plt.subplot(nImgs,4,4*j-1)\n",
    "        plt.imshow(np.fliplr(np.rot90(crf_output,k=3)))\n",
    "        plt.title('Mask after CRF')\n",
    "        if j == nImgs:\n",
    "            break\n",
    "        else:\n",
    "            j = j + 1\n",
    "    i = i + 1\n",
    "plt.tight_layout()"
   ]
  },
  {
   "cell_type": "markdown",
   "metadata": {
    "_uuid": "b9b1725795e5d59a76101cb1cb03e6d2b5c34445"
   },
   "source": [
    "Applying CRF seems to have smoothed the model output."
   ]
  },
  {
   "cell_type": "code",
   "execution_count": null,
   "metadata": {
    "_kg_hide-input": false,
    "_uuid": "6f84aebaeda6b4bdcecdf9a3aa519ef7bf3c95e7",
    "collapsed": true
   },
   "outputs": [],
   "source": [
    "\"\"\"\n",
    "used for converting the decoded image to rle mask\n",
    "\n",
    "\"\"\"\n",
    "def rle_encode(im):\n",
    "    '''\n",
    "    im: numpy array, 1 - mask, 0 - background\n",
    "    Returns run length as string formated\n",
    "    '''\n",
    "    pixels = im.flatten()\n",
    "    pixels = np.concatenate([[0], pixels, [0]])\n",
    "    runs = np.where(pixels[1:] != pixels[:-1])[0] + 1\n",
    "    runs[1::2] -= runs[::2]\n",
    "    return ' '.join(str(x) for x in runs)"
   ]
  },
  {
   "cell_type": "markdown",
   "metadata": {
    "_uuid": "74cba26224b9222793bc92a6b2d819faa5fa0bf8"
   },
   "source": [
    "# Apply CRF on all the masks"
   ]
  },
  {
   "cell_type": "code",
   "execution_count": null,
   "metadata": {
    "_uuid": "bea27323d495155b0023a375a12c76ae861c9928"
   },
   "outputs": [],
   "source": [
    "\"\"\"\n",
    "Applying CRF on the predicted mask \n",
    "\n",
    "\"\"\"\n",
    "for i in tqdm(range(df.shape[0])):\n",
    "    if str(df.loc[i,'rle_mask'])!=str(np.nan):        \n",
    "        decoded_mask = rle_decode(df.loc[i,'rle_mask'])        \n",
    "        orig_img = imread(test_path+df.loc[i,'id']+'.png')        \n",
    "        crf_output = crf(orig_img,decoded_mask)\n",
    "        df.loc[i,'rle_mask'] = rle_encode(crf_output)"
   ]
  },
  {
   "cell_type": "code",
   "execution_count": null,
   "metadata": {
    "_uuid": "62c788666a48af7bf4b14d021180ec030762d285",
    "collapsed": true
   },
   "outputs": [],
   "source": [
    "df.to_csv('crf_correction_unet_bn_diceloss.csv',index=False)"
   ]
  }
 ],
 "metadata": {
  "kernelspec": {
   "display_name": "Python 3",
   "language": "python",
   "name": "python3"
  },
  "language_info": {
   "codemirror_mode": {
    "name": "ipython",
    "version": 3
   },
   "file_extension": ".py",
   "mimetype": "text/x-python",
   "name": "python",
   "nbconvert_exporter": "python",
   "pygments_lexer": "ipython3",
   "version": "3.5.5"
  }
 },
 "nbformat": 4,
 "nbformat_minor": 1
}
