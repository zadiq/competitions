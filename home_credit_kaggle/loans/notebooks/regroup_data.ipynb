{
 "cells": [
  {
   "cell_type": "markdown",
   "metadata": {},
   "source": [
    "## Application Data"
   ]
  },
  {
   "cell_type": "code",
   "execution_count": 1,
   "metadata": {},
   "outputs": [],
   "source": [
    "import pandas as pd\n",
    "from utils import *"
   ]
  },
  {
   "cell_type": "code",
   "execution_count": 2,
   "metadata": {
    "scrolled": true
   },
   "outputs": [],
   "source": [
    "c_app_data = pd.read_csv(get_file('cleaned_app_train'), index_col='SK_ID_CURR')\n",
    "c_app_data.shape"
   ]
  },
  {
   "cell_type": "code",
   "execution_count": 4,
   "metadata": {},
   "outputs": [],
   "source": [
    "train_ratio = .8\n",
    "eval_ratio = .1\n",
    "seed = 520"
   ]
  },
  {
   "cell_type": "code",
   "execution_count": 5,
   "metadata": {},
   "outputs": [],
   "source": [
    "def get_tet_ix(train_ratio, eval_ratio, size):\n",
    "    train_ix = (0, int(train_ratio*size))\n",
    "    eval_ix = (train_ix[1], int(train_ix[1] + eval_ratio*size))\n",
    "    return train_ix, eval_ix"
   ]
  },
  {
   "cell_type": "code",
   "execution_count": 6,
   "metadata": {},
   "outputs": [],
   "source": [
    "class_mask = c_app_data['TARGET'] == 1\n",
    "ones_class_count = c_app_data[class_mask].shape[0]\n",
    "zeros_class_count = c_app_data[~class_mask].shape[0]\n",
    "\n",
    "ones_class_df = c_app_data[class_mask].sample(frac=1, random_state=seed)\n",
    "tr_ix, ev_ix = get_tet_ix(train_ratio, eval_ratio, ones_class_df.shape[0])\n",
    "ones_class = {\n",
    "    'train': ones_class_df.iloc[tr_ix[0]: tr_ix[1]],\n",
    "    'eval': ones_class_df.iloc[ev_ix[0]: ev_ix[1]],\n",
    "    'test': ones_class_df.iloc[ev_ix[1]: ],\n",
    "}\n",
    "\n",
    "zeros_class_df = c_app_data[~class_mask].sample(frac=1, random_state=seed)\n",
    "tr_ix, ev_ix = get_tet_ix(train_ratio, eval_ratio, zeros_class_df.shape[0])\n",
    "zeros_class = {\n",
    "    'train': zeros_class_df.iloc[tr_ix[0]: tr_ix[1]],\n",
    "    'eval': zeros_class_df.iloc[ev_ix[0]: ev_ix[1]],\n",
    "    'test': zeros_class_df.iloc[ev_ix[1]: ],\n",
    "}\n",
    "\n",
    "pd.concat((ones_class['train'], zeros_class['train'])).sample(frac=1, random_state=seed).to_csv(\n",
    "    get_file('re_app_train')\n",
    ")\n",
    "\n",
    "pd.concat((ones_class['eval'], zeros_class['eval'])).sample(frac=1, random_state=seed).to_csv(\n",
    "    get_file('re_app_eval')\n",
    ")\n",
    "\n",
    "pd.concat((ones_class['test'], zeros_class['test'])).sample(frac=1, random_state=seed).to_csv(\n",
    "    get_file('re_app_test')\n",
    ")"
   ]
  }
 ],
 "metadata": {
  "kernelspec": {
   "display_name": "Python 3",
   "language": "python",
   "name": "python3"
  },
  "language_info": {
   "codemirror_mode": {
    "name": "ipython",
    "version": 3
   },
   "file_extension": ".py",
   "mimetype": "text/x-python",
   "name": "python",
   "nbconvert_exporter": "python",
   "pygments_lexer": "ipython3",
   "version": "3.6.3"
  }
 },
 "nbformat": 4,
 "nbformat_minor": 2
}
