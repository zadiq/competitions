{
 "cells": [
  {
   "cell_type": "code",
   "execution_count": 1,
   "metadata": {},
   "outputs": [],
   "source": [
    "import pandas as pd\n",
    "import numpy as np\n",
    "import sys\n",
    "import json\n",
    "import gc\n",
    "sys.path.append('/home/zadiq/dev/competitions/home_credit_kaggle')\n",
    "\n",
    "from loans.utils import (\n",
    "    get_file, get_missing_col,\n",
    "    calc_col_mean_by_target,\n",
    "    generate_meta, one_hot_encode\n",
    ")\n",
    "\n",
    "SEED = 520\n",
    "np.random.seed(SEED)"
   ]
  },
  {
   "cell_type": "code",
   "execution_count": 2,
   "metadata": {
    "scrolled": true
   },
   "outputs": [
    {
     "data": {
      "text/plain": [
       "356255"
      ]
     },
     "execution_count": 2,
     "metadata": {},
     "output_type": "execute_result"
    }
   ],
   "source": [
    "no_of_app = 48744 + 307511\n",
    "no_of_app"
   ]
  },
  {
   "cell_type": "markdown",
   "metadata": {},
   "source": [
    "Aguiar\n",
    "https://www.kaggle.com/ogrellier/fork-lightgbm-with-simple-features/code\n",
    "[Updated 0.792 LB] LightGBM with Simple Features"
   ]
  },
  {
   "cell_type": "markdown",
   "metadata": {},
   "source": [
    "---"
   ]
  },
  {
   "cell_type": "markdown",
   "metadata": {},
   "source": [
    "# Previous application"
   ]
  },
  {
   "cell_type": "code",
   "execution_count": 4,
   "metadata": {},
   "outputs": [],
   "source": [
    "pre_app = pd.read_csv(get_file('pre_app'))"
   ]
  },
  {
   "cell_type": "code",
   "execution_count": 5,
   "metadata": {},
   "outputs": [
    {
     "data": {
      "text/plain": [
       "(1670214, 37)"
      ]
     },
     "execution_count": 5,
     "metadata": {},
     "output_type": "execute_result"
    }
   ],
   "source": [
    "pre_app.shape"
   ]
  },
  {
   "cell_type": "code",
   "execution_count": 6,
   "metadata": {
    "scrolled": true
   },
   "outputs": [
    {
     "data": {
      "text/html": [
       "<div>\n",
       "<style scoped>\n",
       "    .dataframe tbody tr th:only-of-type {\n",
       "        vertical-align: middle;\n",
       "    }\n",
       "\n",
       "    .dataframe tbody tr th {\n",
       "        vertical-align: top;\n",
       "    }\n",
       "\n",
       "    .dataframe thead th {\n",
       "        text-align: right;\n",
       "    }\n",
       "</style>\n",
       "<table border=\"1\" class=\"dataframe\">\n",
       "  <thead>\n",
       "    <tr style=\"text-align: right;\">\n",
       "      <th></th>\n",
       "      <th>SK_ID_PREV</th>\n",
       "      <th>SK_ID_CURR</th>\n",
       "      <th>NAME_CONTRACT_TYPE</th>\n",
       "      <th>AMT_ANNUITY</th>\n",
       "      <th>AMT_APPLICATION</th>\n",
       "      <th>AMT_CREDIT</th>\n",
       "      <th>AMT_DOWN_PAYMENT</th>\n",
       "      <th>AMT_GOODS_PRICE</th>\n",
       "      <th>WEEKDAY_APPR_PROCESS_START</th>\n",
       "      <th>HOUR_APPR_PROCESS_START</th>\n",
       "      <th>...</th>\n",
       "      <th>NAME_SELLER_INDUSTRY</th>\n",
       "      <th>CNT_PAYMENT</th>\n",
       "      <th>NAME_YIELD_GROUP</th>\n",
       "      <th>PRODUCT_COMBINATION</th>\n",
       "      <th>DAYS_FIRST_DRAWING</th>\n",
       "      <th>DAYS_FIRST_DUE</th>\n",
       "      <th>DAYS_LAST_DUE_1ST_VERSION</th>\n",
       "      <th>DAYS_LAST_DUE</th>\n",
       "      <th>DAYS_TERMINATION</th>\n",
       "      <th>NFLAG_INSURED_ON_APPROVAL</th>\n",
       "    </tr>\n",
       "  </thead>\n",
       "  <tbody>\n",
       "    <tr>\n",
       "      <th>1137685</th>\n",
       "      <td>1416888</td>\n",
       "      <td>388789</td>\n",
       "      <td>Consumer loans</td>\n",
       "      <td>6278.895</td>\n",
       "      <td>103860.0</td>\n",
       "      <td>31905.0</td>\n",
       "      <td>71955.0</td>\n",
       "      <td>103860.0</td>\n",
       "      <td>TUESDAY</td>\n",
       "      <td>17</td>\n",
       "      <td>...</td>\n",
       "      <td>Connectivity</td>\n",
       "      <td>6.0</td>\n",
       "      <td>high</td>\n",
       "      <td>POS mobile with interest</td>\n",
       "      <td>365243.0</td>\n",
       "      <td>-2090.0</td>\n",
       "      <td>-1940.0</td>\n",
       "      <td>-2000.0</td>\n",
       "      <td>-1998.0</td>\n",
       "      <td>0.0</td>\n",
       "    </tr>\n",
       "    <tr>\n",
       "      <th>557838</th>\n",
       "      <td>1419073</td>\n",
       "      <td>246524</td>\n",
       "      <td>Revolving loans</td>\n",
       "      <td>NaN</td>\n",
       "      <td>0.0</td>\n",
       "      <td>0.0</td>\n",
       "      <td>NaN</td>\n",
       "      <td>NaN</td>\n",
       "      <td>SATURDAY</td>\n",
       "      <td>11</td>\n",
       "      <td>...</td>\n",
       "      <td>XNA</td>\n",
       "      <td>NaN</td>\n",
       "      <td>XNA</td>\n",
       "      <td>Card Street</td>\n",
       "      <td>NaN</td>\n",
       "      <td>NaN</td>\n",
       "      <td>NaN</td>\n",
       "      <td>NaN</td>\n",
       "      <td>NaN</td>\n",
       "      <td>NaN</td>\n",
       "    </tr>\n",
       "    <tr>\n",
       "      <th>144392</th>\n",
       "      <td>1616635</td>\n",
       "      <td>199194</td>\n",
       "      <td>Cash loans</td>\n",
       "      <td>25436.070</td>\n",
       "      <td>630000.0</td>\n",
       "      <td>705676.5</td>\n",
       "      <td>NaN</td>\n",
       "      <td>630000.0</td>\n",
       "      <td>SATURDAY</td>\n",
       "      <td>16</td>\n",
       "      <td>...</td>\n",
       "      <td>XNA</td>\n",
       "      <td>42.0</td>\n",
       "      <td>low_normal</td>\n",
       "      <td>Cash X-Sell: low</td>\n",
       "      <td>NaN</td>\n",
       "      <td>NaN</td>\n",
       "      <td>NaN</td>\n",
       "      <td>NaN</td>\n",
       "      <td>NaN</td>\n",
       "      <td>NaN</td>\n",
       "    </tr>\n",
       "    <tr>\n",
       "      <th>1498249</th>\n",
       "      <td>1882092</td>\n",
       "      <td>200217</td>\n",
       "      <td>Cash loans</td>\n",
       "      <td>26611.155</td>\n",
       "      <td>270000.0</td>\n",
       "      <td>284611.5</td>\n",
       "      <td>NaN</td>\n",
       "      <td>270000.0</td>\n",
       "      <td>WEDNESDAY</td>\n",
       "      <td>8</td>\n",
       "      <td>...</td>\n",
       "      <td>Consumer electronics</td>\n",
       "      <td>12.0</td>\n",
       "      <td>low_normal</td>\n",
       "      <td>Cash X-Sell: low</td>\n",
       "      <td>365243.0</td>\n",
       "      <td>-185.0</td>\n",
       "      <td>145.0</td>\n",
       "      <td>-125.0</td>\n",
       "      <td>-120.0</td>\n",
       "      <td>1.0</td>\n",
       "    </tr>\n",
       "    <tr>\n",
       "      <th>1034965</th>\n",
       "      <td>1656490</td>\n",
       "      <td>419376</td>\n",
       "      <td>Consumer loans</td>\n",
       "      <td>16587.630</td>\n",
       "      <td>174600.0</td>\n",
       "      <td>197073.0</td>\n",
       "      <td>0.0</td>\n",
       "      <td>174600.0</td>\n",
       "      <td>WEDNESDAY</td>\n",
       "      <td>9</td>\n",
       "      <td>...</td>\n",
       "      <td>Consumer electronics</td>\n",
       "      <td>18.0</td>\n",
       "      <td>high</td>\n",
       "      <td>POS household with interest</td>\n",
       "      <td>NaN</td>\n",
       "      <td>NaN</td>\n",
       "      <td>NaN</td>\n",
       "      <td>NaN</td>\n",
       "      <td>NaN</td>\n",
       "      <td>NaN</td>\n",
       "    </tr>\n",
       "    <tr>\n",
       "      <th>1270229</th>\n",
       "      <td>1745066</td>\n",
       "      <td>400846</td>\n",
       "      <td>Revolving loans</td>\n",
       "      <td>9000.000</td>\n",
       "      <td>0.0</td>\n",
       "      <td>180000.0</td>\n",
       "      <td>NaN</td>\n",
       "      <td>NaN</td>\n",
       "      <td>WEDNESDAY</td>\n",
       "      <td>17</td>\n",
       "      <td>...</td>\n",
       "      <td>XNA</td>\n",
       "      <td>0.0</td>\n",
       "      <td>XNA</td>\n",
       "      <td>Card X-Sell</td>\n",
       "      <td>-679.0</td>\n",
       "      <td>-628.0</td>\n",
       "      <td>365243.0</td>\n",
       "      <td>365243.0</td>\n",
       "      <td>365243.0</td>\n",
       "      <td>0.0</td>\n",
       "    </tr>\n",
       "    <tr>\n",
       "      <th>1290516</th>\n",
       "      <td>2275673</td>\n",
       "      <td>433984</td>\n",
       "      <td>Consumer loans</td>\n",
       "      <td>4497.120</td>\n",
       "      <td>49095.0</td>\n",
       "      <td>49095.0</td>\n",
       "      <td>0.0</td>\n",
       "      <td>49095.0</td>\n",
       "      <td>FRIDAY</td>\n",
       "      <td>10</td>\n",
       "      <td>...</td>\n",
       "      <td>Consumer electronics</td>\n",
       "      <td>12.0</td>\n",
       "      <td>low_action</td>\n",
       "      <td>POS household without interest</td>\n",
       "      <td>365243.0</td>\n",
       "      <td>-1353.0</td>\n",
       "      <td>-1023.0</td>\n",
       "      <td>-1053.0</td>\n",
       "      <td>-1046.0</td>\n",
       "      <td>0.0</td>\n",
       "    </tr>\n",
       "    <tr>\n",
       "      <th>1228147</th>\n",
       "      <td>1564433</td>\n",
       "      <td>114033</td>\n",
       "      <td>Consumer loans</td>\n",
       "      <td>7855.470</td>\n",
       "      <td>56862.0</td>\n",
       "      <td>56862.0</td>\n",
       "      <td>0.0</td>\n",
       "      <td>56862.0</td>\n",
       "      <td>FRIDAY</td>\n",
       "      <td>9</td>\n",
       "      <td>...</td>\n",
       "      <td>Connectivity</td>\n",
       "      <td>10.0</td>\n",
       "      <td>high</td>\n",
       "      <td>POS mobile with interest</td>\n",
       "      <td>365243.0</td>\n",
       "      <td>365243.0</td>\n",
       "      <td>276.0</td>\n",
       "      <td>365243.0</td>\n",
       "      <td>365243.0</td>\n",
       "      <td>0.0</td>\n",
       "    </tr>\n",
       "    <tr>\n",
       "      <th>1423361</th>\n",
       "      <td>1761476</td>\n",
       "      <td>101528</td>\n",
       "      <td>Consumer loans</td>\n",
       "      <td>5634.855</td>\n",
       "      <td>29160.0</td>\n",
       "      <td>27630.0</td>\n",
       "      <td>2916.0</td>\n",
       "      <td>29160.0</td>\n",
       "      <td>SATURDAY</td>\n",
       "      <td>7</td>\n",
       "      <td>...</td>\n",
       "      <td>Connectivity</td>\n",
       "      <td>6.0</td>\n",
       "      <td>high</td>\n",
       "      <td>POS mobile with interest</td>\n",
       "      <td>365243.0</td>\n",
       "      <td>-703.0</td>\n",
       "      <td>-553.0</td>\n",
       "      <td>-553.0</td>\n",
       "      <td>-551.0</td>\n",
       "      <td>0.0</td>\n",
       "    </tr>\n",
       "    <tr>\n",
       "      <th>1218983</th>\n",
       "      <td>2319231</td>\n",
       "      <td>152627</td>\n",
       "      <td>Cash loans</td>\n",
       "      <td>37267.560</td>\n",
       "      <td>900000.0</td>\n",
       "      <td>978408.0</td>\n",
       "      <td>NaN</td>\n",
       "      <td>900000.0</td>\n",
       "      <td>SATURDAY</td>\n",
       "      <td>16</td>\n",
       "      <td>...</td>\n",
       "      <td>Consumer electronics</td>\n",
       "      <td>36.0</td>\n",
       "      <td>low_normal</td>\n",
       "      <td>Cash X-Sell: low</td>\n",
       "      <td>NaN</td>\n",
       "      <td>NaN</td>\n",
       "      <td>NaN</td>\n",
       "      <td>NaN</td>\n",
       "      <td>NaN</td>\n",
       "      <td>NaN</td>\n",
       "    </tr>\n",
       "  </tbody>\n",
       "</table>\n",
       "<p>10 rows × 37 columns</p>\n",
       "</div>"
      ],
      "text/plain": [
       "         SK_ID_PREV  SK_ID_CURR NAME_CONTRACT_TYPE  AMT_ANNUITY  \\\n",
       "1137685     1416888      388789     Consumer loans     6278.895   \n",
       "557838      1419073      246524    Revolving loans          NaN   \n",
       "144392      1616635      199194         Cash loans    25436.070   \n",
       "1498249     1882092      200217         Cash loans    26611.155   \n",
       "1034965     1656490      419376     Consumer loans    16587.630   \n",
       "1270229     1745066      400846    Revolving loans     9000.000   \n",
       "1290516     2275673      433984     Consumer loans     4497.120   \n",
       "1228147     1564433      114033     Consumer loans     7855.470   \n",
       "1423361     1761476      101528     Consumer loans     5634.855   \n",
       "1218983     2319231      152627         Cash loans    37267.560   \n",
       "\n",
       "         AMT_APPLICATION  AMT_CREDIT  AMT_DOWN_PAYMENT  AMT_GOODS_PRICE  \\\n",
       "1137685         103860.0     31905.0           71955.0         103860.0   \n",
       "557838               0.0         0.0               NaN              NaN   \n",
       "144392          630000.0    705676.5               NaN         630000.0   \n",
       "1498249         270000.0    284611.5               NaN         270000.0   \n",
       "1034965         174600.0    197073.0               0.0         174600.0   \n",
       "1270229              0.0    180000.0               NaN              NaN   \n",
       "1290516          49095.0     49095.0               0.0          49095.0   \n",
       "1228147          56862.0     56862.0               0.0          56862.0   \n",
       "1423361          29160.0     27630.0            2916.0          29160.0   \n",
       "1218983         900000.0    978408.0               NaN         900000.0   \n",
       "\n",
       "        WEEKDAY_APPR_PROCESS_START  HOUR_APPR_PROCESS_START  \\\n",
       "1137685                    TUESDAY                       17   \n",
       "557838                    SATURDAY                       11   \n",
       "144392                    SATURDAY                       16   \n",
       "1498249                  WEDNESDAY                        8   \n",
       "1034965                  WEDNESDAY                        9   \n",
       "1270229                  WEDNESDAY                       17   \n",
       "1290516                     FRIDAY                       10   \n",
       "1228147                     FRIDAY                        9   \n",
       "1423361                   SATURDAY                        7   \n",
       "1218983                   SATURDAY                       16   \n",
       "\n",
       "                   ...             NAME_SELLER_INDUSTRY  CNT_PAYMENT  \\\n",
       "1137685            ...                     Connectivity          6.0   \n",
       "557838             ...                              XNA          NaN   \n",
       "144392             ...                              XNA         42.0   \n",
       "1498249            ...             Consumer electronics         12.0   \n",
       "1034965            ...             Consumer electronics         18.0   \n",
       "1270229            ...                              XNA          0.0   \n",
       "1290516            ...             Consumer electronics         12.0   \n",
       "1228147            ...                     Connectivity         10.0   \n",
       "1423361            ...                     Connectivity          6.0   \n",
       "1218983            ...             Consumer electronics         36.0   \n",
       "\n",
       "         NAME_YIELD_GROUP             PRODUCT_COMBINATION  DAYS_FIRST_DRAWING  \\\n",
       "1137685              high        POS mobile with interest            365243.0   \n",
       "557838                XNA                     Card Street                 NaN   \n",
       "144392         low_normal                Cash X-Sell: low                 NaN   \n",
       "1498249        low_normal                Cash X-Sell: low            365243.0   \n",
       "1034965              high     POS household with interest                 NaN   \n",
       "1270229               XNA                     Card X-Sell              -679.0   \n",
       "1290516        low_action  POS household without interest            365243.0   \n",
       "1228147              high        POS mobile with interest            365243.0   \n",
       "1423361              high        POS mobile with interest            365243.0   \n",
       "1218983        low_normal                Cash X-Sell: low                 NaN   \n",
       "\n",
       "        DAYS_FIRST_DUE DAYS_LAST_DUE_1ST_VERSION  DAYS_LAST_DUE  \\\n",
       "1137685        -2090.0                   -1940.0        -2000.0   \n",
       "557838             NaN                       NaN            NaN   \n",
       "144392             NaN                       NaN            NaN   \n",
       "1498249         -185.0                     145.0         -125.0   \n",
       "1034965            NaN                       NaN            NaN   \n",
       "1270229         -628.0                  365243.0       365243.0   \n",
       "1290516        -1353.0                   -1023.0        -1053.0   \n",
       "1228147       365243.0                     276.0       365243.0   \n",
       "1423361         -703.0                    -553.0         -553.0   \n",
       "1218983            NaN                       NaN            NaN   \n",
       "\n",
       "        DAYS_TERMINATION NFLAG_INSURED_ON_APPROVAL  \n",
       "1137685          -1998.0                       0.0  \n",
       "557838               NaN                       NaN  \n",
       "144392               NaN                       NaN  \n",
       "1498249           -120.0                       1.0  \n",
       "1034965              NaN                       NaN  \n",
       "1270229         365243.0                       0.0  \n",
       "1290516          -1046.0                       0.0  \n",
       "1228147         365243.0                       0.0  \n",
       "1423361           -551.0                       0.0  \n",
       "1218983              NaN                       NaN  \n",
       "\n",
       "[10 rows x 37 columns]"
      ]
     },
     "execution_count": 6,
     "metadata": {},
     "output_type": "execute_result"
    }
   ],
   "source": [
    "pre_app.sample(10)"
   ]
  },
  {
   "cell_type": "code",
   "execution_count": 7,
   "metadata": {
    "scrolled": true
   },
   "outputs": [
    {
     "data": {
      "text/plain": [
       "RATE_INTEREST_PRIVILEGED     99.643698\n",
       "RATE_INTEREST_PRIMARY        99.643698\n",
       "RATE_DOWN_PAYMENT            53.636480\n",
       "AMT_DOWN_PAYMENT             53.636480\n",
       "NAME_TYPE_SUITE              49.119754\n",
       "NFLAG_INSURED_ON_APPROVAL    40.298129\n",
       "DAYS_TERMINATION             40.298129\n",
       "DAYS_LAST_DUE                40.298129\n",
       "DAYS_LAST_DUE_1ST_VERSION    40.298129\n",
       "DAYS_FIRST_DUE               40.298129\n",
       "DAYS_FIRST_DRAWING           40.298129\n",
       "AMT_GOODS_PRICE              23.081773\n",
       "AMT_ANNUITY                  22.286665\n",
       "CNT_PAYMENT                  22.286366\n",
       "PRODUCT_COMBINATION           0.020716\n",
       "AMT_CREDIT                    0.000060\n",
       "dtype: float64"
      ]
     },
     "execution_count": 7,
     "metadata": {},
     "output_type": "execute_result"
    }
   ],
   "source": [
    "get_missing_col(pre_app)"
   ]
  },
  {
   "cell_type": "code",
   "execution_count": 8,
   "metadata": {},
   "outputs": [],
   "source": [
    "pre_app, cat_cols = one_hot_encode(pre_app)"
   ]
  },
  {
   "cell_type": "code",
   "execution_count": 9,
   "metadata": {},
   "outputs": [
    {
     "data": {
      "text/plain": [
       "['SK_ID_PREV',\n",
       " 'SK_ID_CURR',\n",
       " 'AMT_ANNUITY',\n",
       " 'AMT_APPLICATION',\n",
       " 'AMT_CREDIT',\n",
       " 'AMT_DOWN_PAYMENT',\n",
       " 'AMT_GOODS_PRICE',\n",
       " 'HOUR_APPR_PROCESS_START',\n",
       " 'NFLAG_LAST_APPL_IN_DAY',\n",
       " 'RATE_DOWN_PAYMENT',\n",
       " 'RATE_INTEREST_PRIMARY',\n",
       " 'RATE_INTEREST_PRIVILEGED',\n",
       " 'DAYS_DECISION',\n",
       " 'SELLERPLACE_AREA',\n",
       " 'CNT_PAYMENT',\n",
       " 'DAYS_FIRST_DRAWING',\n",
       " 'DAYS_FIRST_DUE',\n",
       " 'DAYS_LAST_DUE_1ST_VERSION',\n",
       " 'DAYS_LAST_DUE',\n",
       " 'DAYS_TERMINATION',\n",
       " 'NFLAG_INSURED_ON_APPROVAL',\n",
       " 'NAME_CONTRACT_TYPE_Cash loans',\n",
       " 'NAME_CONTRACT_TYPE_Consumer loans',\n",
       " 'NAME_CONTRACT_TYPE_Revolving loans',\n",
       " 'NAME_CONTRACT_TYPE_XNA',\n",
       " 'NAME_CONTRACT_TYPE_nan',\n",
       " 'WEEKDAY_APPR_PROCESS_START_FRIDAY',\n",
       " 'WEEKDAY_APPR_PROCESS_START_MONDAY',\n",
       " 'WEEKDAY_APPR_PROCESS_START_SATURDAY',\n",
       " 'WEEKDAY_APPR_PROCESS_START_SUNDAY',\n",
       " 'WEEKDAY_APPR_PROCESS_START_THURSDAY',\n",
       " 'WEEKDAY_APPR_PROCESS_START_TUESDAY',\n",
       " 'WEEKDAY_APPR_PROCESS_START_WEDNESDAY',\n",
       " 'WEEKDAY_APPR_PROCESS_START_nan',\n",
       " 'FLAG_LAST_APPL_PER_CONTRACT_N',\n",
       " 'FLAG_LAST_APPL_PER_CONTRACT_Y',\n",
       " 'FLAG_LAST_APPL_PER_CONTRACT_nan',\n",
       " 'NAME_CASH_LOAN_PURPOSE_Building a house or an annex',\n",
       " 'NAME_CASH_LOAN_PURPOSE_Business development',\n",
       " 'NAME_CASH_LOAN_PURPOSE_Buying a garage',\n",
       " 'NAME_CASH_LOAN_PURPOSE_Buying a holiday home / land',\n",
       " 'NAME_CASH_LOAN_PURPOSE_Buying a home',\n",
       " 'NAME_CASH_LOAN_PURPOSE_Buying a new car',\n",
       " 'NAME_CASH_LOAN_PURPOSE_Buying a used car',\n",
       " 'NAME_CASH_LOAN_PURPOSE_Car repairs',\n",
       " 'NAME_CASH_LOAN_PURPOSE_Education',\n",
       " 'NAME_CASH_LOAN_PURPOSE_Everyday expenses',\n",
       " 'NAME_CASH_LOAN_PURPOSE_Furniture',\n",
       " 'NAME_CASH_LOAN_PURPOSE_Gasification / water supply',\n",
       " 'NAME_CASH_LOAN_PURPOSE_Hobby',\n",
       " 'NAME_CASH_LOAN_PURPOSE_Journey',\n",
       " 'NAME_CASH_LOAN_PURPOSE_Medicine',\n",
       " 'NAME_CASH_LOAN_PURPOSE_Money for a third person',\n",
       " 'NAME_CASH_LOAN_PURPOSE_Other',\n",
       " 'NAME_CASH_LOAN_PURPOSE_Payments on other loans',\n",
       " 'NAME_CASH_LOAN_PURPOSE_Purchase of electronic equipment',\n",
       " 'NAME_CASH_LOAN_PURPOSE_Refusal to name the goal',\n",
       " 'NAME_CASH_LOAN_PURPOSE_Repairs',\n",
       " 'NAME_CASH_LOAN_PURPOSE_Urgent needs',\n",
       " 'NAME_CASH_LOAN_PURPOSE_Wedding / gift / holiday',\n",
       " 'NAME_CASH_LOAN_PURPOSE_XAP',\n",
       " 'NAME_CASH_LOAN_PURPOSE_XNA',\n",
       " 'NAME_CASH_LOAN_PURPOSE_nan',\n",
       " 'NAME_CONTRACT_STATUS_Approved',\n",
       " 'NAME_CONTRACT_STATUS_Canceled',\n",
       " 'NAME_CONTRACT_STATUS_Refused',\n",
       " 'NAME_CONTRACT_STATUS_Unused offer',\n",
       " 'NAME_CONTRACT_STATUS_nan',\n",
       " 'NAME_PAYMENT_TYPE_Cash through the bank',\n",
       " 'NAME_PAYMENT_TYPE_Cashless from the account of the employer',\n",
       " 'NAME_PAYMENT_TYPE_Non-cash from your account',\n",
       " 'NAME_PAYMENT_TYPE_XNA',\n",
       " 'NAME_PAYMENT_TYPE_nan',\n",
       " 'CODE_REJECT_REASON_CLIENT',\n",
       " 'CODE_REJECT_REASON_HC',\n",
       " 'CODE_REJECT_REASON_LIMIT',\n",
       " 'CODE_REJECT_REASON_SCO',\n",
       " 'CODE_REJECT_REASON_SCOFR',\n",
       " 'CODE_REJECT_REASON_SYSTEM',\n",
       " 'CODE_REJECT_REASON_VERIF',\n",
       " 'CODE_REJECT_REASON_XAP',\n",
       " 'CODE_REJECT_REASON_XNA',\n",
       " 'CODE_REJECT_REASON_nan',\n",
       " 'NAME_TYPE_SUITE_Children',\n",
       " 'NAME_TYPE_SUITE_Family',\n",
       " 'NAME_TYPE_SUITE_Group of people',\n",
       " 'NAME_TYPE_SUITE_Other_A',\n",
       " 'NAME_TYPE_SUITE_Other_B',\n",
       " 'NAME_TYPE_SUITE_Spouse, partner',\n",
       " 'NAME_TYPE_SUITE_Unaccompanied',\n",
       " 'NAME_TYPE_SUITE_nan',\n",
       " 'NAME_CLIENT_TYPE_New',\n",
       " 'NAME_CLIENT_TYPE_Refreshed',\n",
       " 'NAME_CLIENT_TYPE_Repeater',\n",
       " 'NAME_CLIENT_TYPE_XNA',\n",
       " 'NAME_CLIENT_TYPE_nan',\n",
       " 'NAME_GOODS_CATEGORY_Additional Service',\n",
       " 'NAME_GOODS_CATEGORY_Animals',\n",
       " 'NAME_GOODS_CATEGORY_Audio/Video',\n",
       " 'NAME_GOODS_CATEGORY_Auto Accessories',\n",
       " 'NAME_GOODS_CATEGORY_Clothing and Accessories',\n",
       " 'NAME_GOODS_CATEGORY_Computers',\n",
       " 'NAME_GOODS_CATEGORY_Construction Materials',\n",
       " 'NAME_GOODS_CATEGORY_Consumer Electronics',\n",
       " 'NAME_GOODS_CATEGORY_Direct Sales',\n",
       " 'NAME_GOODS_CATEGORY_Education',\n",
       " 'NAME_GOODS_CATEGORY_Fitness',\n",
       " 'NAME_GOODS_CATEGORY_Furniture',\n",
       " 'NAME_GOODS_CATEGORY_Gardening',\n",
       " 'NAME_GOODS_CATEGORY_Homewares',\n",
       " 'NAME_GOODS_CATEGORY_House Construction',\n",
       " 'NAME_GOODS_CATEGORY_Insurance',\n",
       " 'NAME_GOODS_CATEGORY_Jewelry',\n",
       " 'NAME_GOODS_CATEGORY_Medical Supplies',\n",
       " 'NAME_GOODS_CATEGORY_Medicine',\n",
       " 'NAME_GOODS_CATEGORY_Mobile',\n",
       " 'NAME_GOODS_CATEGORY_Office Appliances',\n",
       " 'NAME_GOODS_CATEGORY_Other',\n",
       " 'NAME_GOODS_CATEGORY_Photo / Cinema Equipment',\n",
       " 'NAME_GOODS_CATEGORY_Sport and Leisure',\n",
       " 'NAME_GOODS_CATEGORY_Tourism',\n",
       " 'NAME_GOODS_CATEGORY_Vehicles',\n",
       " 'NAME_GOODS_CATEGORY_Weapon',\n",
       " 'NAME_GOODS_CATEGORY_XNA',\n",
       " 'NAME_GOODS_CATEGORY_nan',\n",
       " 'NAME_PORTFOLIO_Cards',\n",
       " 'NAME_PORTFOLIO_Cars',\n",
       " 'NAME_PORTFOLIO_Cash',\n",
       " 'NAME_PORTFOLIO_POS',\n",
       " 'NAME_PORTFOLIO_XNA',\n",
       " 'NAME_PORTFOLIO_nan',\n",
       " 'NAME_PRODUCT_TYPE_XNA',\n",
       " 'NAME_PRODUCT_TYPE_walk-in',\n",
       " 'NAME_PRODUCT_TYPE_x-sell',\n",
       " 'NAME_PRODUCT_TYPE_nan',\n",
       " 'CHANNEL_TYPE_AP+ (Cash loan)',\n",
       " 'CHANNEL_TYPE_Car dealer',\n",
       " 'CHANNEL_TYPE_Channel of corporate sales',\n",
       " 'CHANNEL_TYPE_Contact center',\n",
       " 'CHANNEL_TYPE_Country-wide',\n",
       " 'CHANNEL_TYPE_Credit and cash offices',\n",
       " 'CHANNEL_TYPE_Regional / Local',\n",
       " 'CHANNEL_TYPE_Stone',\n",
       " 'CHANNEL_TYPE_nan',\n",
       " 'NAME_SELLER_INDUSTRY_Auto technology',\n",
       " 'NAME_SELLER_INDUSTRY_Clothing',\n",
       " 'NAME_SELLER_INDUSTRY_Connectivity',\n",
       " 'NAME_SELLER_INDUSTRY_Construction',\n",
       " 'NAME_SELLER_INDUSTRY_Consumer electronics',\n",
       " 'NAME_SELLER_INDUSTRY_Furniture',\n",
       " 'NAME_SELLER_INDUSTRY_Industry',\n",
       " 'NAME_SELLER_INDUSTRY_Jewelry',\n",
       " 'NAME_SELLER_INDUSTRY_MLM partners',\n",
       " 'NAME_SELLER_INDUSTRY_Tourism',\n",
       " 'NAME_SELLER_INDUSTRY_XNA',\n",
       " 'NAME_SELLER_INDUSTRY_nan',\n",
       " 'NAME_YIELD_GROUP_XNA',\n",
       " 'NAME_YIELD_GROUP_high',\n",
       " 'NAME_YIELD_GROUP_low_action',\n",
       " 'NAME_YIELD_GROUP_low_normal',\n",
       " 'NAME_YIELD_GROUP_middle',\n",
       " 'NAME_YIELD_GROUP_nan',\n",
       " 'PRODUCT_COMBINATION_Card Street',\n",
       " 'PRODUCT_COMBINATION_Card X-Sell',\n",
       " 'PRODUCT_COMBINATION_Cash',\n",
       " 'PRODUCT_COMBINATION_Cash Street: high',\n",
       " 'PRODUCT_COMBINATION_Cash Street: low',\n",
       " 'PRODUCT_COMBINATION_Cash Street: middle',\n",
       " 'PRODUCT_COMBINATION_Cash X-Sell: high',\n",
       " 'PRODUCT_COMBINATION_Cash X-Sell: low',\n",
       " 'PRODUCT_COMBINATION_Cash X-Sell: middle',\n",
       " 'PRODUCT_COMBINATION_POS household with interest',\n",
       " 'PRODUCT_COMBINATION_POS household without interest',\n",
       " 'PRODUCT_COMBINATION_POS industry with interest',\n",
       " 'PRODUCT_COMBINATION_POS industry without interest',\n",
       " 'PRODUCT_COMBINATION_POS mobile with interest',\n",
       " 'PRODUCT_COMBINATION_POS mobile without interest',\n",
       " 'PRODUCT_COMBINATION_POS other with interest',\n",
       " 'PRODUCT_COMBINATION_POS others without interest',\n",
       " 'PRODUCT_COMBINATION_nan']"
      ]
     },
     "execution_count": 9,
     "metadata": {},
     "output_type": "execute_result"
    }
   ],
   "source": [
    "pre_app.columns.tolist()"
   ]
  },
  {
   "cell_type": "code",
   "execution_count": 12,
   "metadata": {
    "scrolled": true
   },
   "outputs": [],
   "source": [
    "pre_app['DAYS_FIRST_DRAWING'].replace(365243, np.nan, inplace=True)\n",
    "pre_app['DAYS_FIRST_DUE'].replace(365243, np.nan, inplace=True)\n",
    "pre_app['DAYS_LAST_DUE_1ST_VERSION'].replace(365243, np.nan, inplace=True)\n",
    "pre_app['DAYS_LAST_DUE'].replace(365243, np.nan, inplace=True)\n",
    "pre_app['DAYS_TERMINATION'].replace(365243, np.nan, inplace=True)\n",
    "\n",
    "# Create a flag for anomolies detection\n",
    "pre_app['DAYS_FIRST_DRAWING_ANOM'] = pre_app['DAYS_FIRST_DRAWING'] == 365243\n",
    "pre_app['DAYS_FIRST_DUE_ANOM'] = pre_app['DAYS_FIRST_DUE'] == 365243\n",
    "pre_app['DAYS_LAST_DUE_1ST_VERSION_ANOM'] = pre_app['DAYS_LAST_DUE_1ST_VERSION'] == 365243\n",
    "pre_app['DAYS_LAST_DUE_ANOM'] = pre_app['DAYS_LAST_DUE'] == 365243\n",
    "pre_app['DAYS_TERMINATION_ANOM'] = pre_app['DAYS_TERMINATION'] == 365243\n",
    "\n",
    "pre_app['APP_CREDIT_PERC'] = pre_app['AMT_APPLICATION'] / pre_app['AMT_CREDIT']\n",
    "\n",
    "cat_cols = cat_cols + ['DAYS_FIRST_DRAWING_ANOM', 'DAYS_FIRST_DUE_ANOM',\n",
    "                       'DAYS_LAST_DUE_1ST_VERSION_ANOM', 'DAYS_LAST_DUE_ANOM',\n",
    "                       'DAYS_TERMINATION_ANOM']"
   ]
  },
  {
   "cell_type": "code",
   "execution_count": 14,
   "metadata": {},
   "outputs": [],
   "source": [
    "cat_agg = {c:['mean'] for c in cat_cols}\n",
    "num_agg = {\n",
    "    'AMT_ANNUITY': ['min', 'max', 'mean'],\n",
    "    'AMT_APPLICATION': ['min', 'max', 'mean'],\n",
    "    'AMT_CREDIT': ['min', 'max', 'mean'],\n",
    "    'APP_CREDIT_PERC': ['min', 'max', 'mean', 'var'],\n",
    "    'AMT_DOWN_PAYMENT': ['min', 'max', 'mean'],\n",
    "    'AMT_GOODS_PRICE': ['min', 'max', 'mean'],\n",
    "    'HOUR_APPR_PROCESS_START': ['min', 'max', 'mean'],\n",
    "    'RATE_DOWN_PAYMENT': ['min', 'max', 'mean'],\n",
    "    'DAYS_DECISION': ['min', 'max', 'mean'],\n",
    "    'CNT_PAYMENT': ['mean', 'sum'], \n",
    "}"
   ]
  },
  {
   "cell_type": "code",
   "execution_count": 16,
   "metadata": {},
   "outputs": [],
   "source": [
    "prev_agg = pre_app.groupby('SK_ID_CURR').agg({**cat_agg, **num_agg})"
   ]
  },
  {
   "cell_type": "code",
   "execution_count": 24,
   "metadata": {},
   "outputs": [],
   "source": [
    "# add numbers of previous app as a feature\n",
    "prev_app_counts = pre_app.SK_ID_CURR.value_counts()\n",
    "prev_agg.loc[prev_app_counts.index, 'PREV_APP_COUNTS'] = prev_app_counts.values"
   ]
  },
  {
   "cell_type": "code",
   "execution_count": 30,
   "metadata": {},
   "outputs": [],
   "source": [
    "prev_agg.columns = pd.Index(['PREV_' + e[0] + \"_\" + e[1].upper() for e in prev_agg.columns.tolist()])"
   ]
  },
  {
   "cell_type": "code",
   "execution_count": 31,
   "metadata": {},
   "outputs": [],
   "source": [
    "approved = pre_app[pre_app['NAME_CONTRACT_STATUS_Approved'] == 1]\n",
    "approved_agg = approved.groupby('SK_ID_CURR').agg(num_agg)\n",
    "cols = approved_agg.columns.tolist()\n",
    "approved_agg.columns = pd.Index(['APPROVED_' + e[0] + \"_\" + e[1].upper() for e in approved_agg.columns.tolist()])"
   ]
  },
  {
   "cell_type": "code",
   "execution_count": 33,
   "metadata": {},
   "outputs": [],
   "source": [
    "prev_agg = prev_agg.join(approved_agg, how='left', on='SK_ID_CURR')"
   ]
  },
  {
   "cell_type": "code",
   "execution_count": 41,
   "metadata": {
    "scrolled": true
   },
   "outputs": [
    {
     "data": {
      "text/plain": [
       "PREV_AMT_ANNUITY_MIN                     True\n",
       "PREV_AMT_ANNUITY_MAX                     True\n",
       "PREV_AMT_ANNUITY_MEAN                    True\n",
       "PREV_APP_CREDIT_PERC_MIN                 True\n",
       "PREV_APP_CREDIT_PERC_MAX                 True\n",
       "PREV_APP_CREDIT_PERC_MEAN                True\n",
       "PREV_APP_CREDIT_PERC_VAR                 True\n",
       "PREV_AMT_DOWN_PAYMENT_MIN                True\n",
       "PREV_AMT_DOWN_PAYMENT_MAX                True\n",
       "PREV_AMT_DOWN_PAYMENT_MEAN               True\n",
       "PREV_AMT_GOODS_PRICE_MIN                 True\n",
       "PREV_AMT_GOODS_PRICE_MAX                 True\n",
       "PREV_AMT_GOODS_PRICE_MEAN                True\n",
       "PREV_RATE_DOWN_PAYMENT_MIN               True\n",
       "PREV_RATE_DOWN_PAYMENT_MAX               True\n",
       "PREV_RATE_DOWN_PAYMENT_MEAN              True\n",
       "PREV_CNT_PAYMENT_MEAN                    True\n",
       "APPROVED_AMT_ANNUITY_MIN                 True\n",
       "APPROVED_AMT_ANNUITY_MAX                 True\n",
       "APPROVED_AMT_ANNUITY_MEAN                True\n",
       "APPROVED_AMT_APPLICATION_MIN             True\n",
       "APPROVED_AMT_APPLICATION_MAX             True\n",
       "APPROVED_AMT_APPLICATION_MEAN            True\n",
       "APPROVED_AMT_CREDIT_MIN                  True\n",
       "APPROVED_AMT_CREDIT_MAX                  True\n",
       "APPROVED_AMT_CREDIT_MEAN                 True\n",
       "APPROVED_APP_CREDIT_PERC_MIN             True\n",
       "APPROVED_APP_CREDIT_PERC_MAX             True\n",
       "APPROVED_APP_CREDIT_PERC_MEAN            True\n",
       "APPROVED_APP_CREDIT_PERC_VAR             True\n",
       "APPROVED_AMT_DOWN_PAYMENT_MIN            True\n",
       "APPROVED_AMT_DOWN_PAYMENT_MAX            True\n",
       "APPROVED_AMT_DOWN_PAYMENT_MEAN           True\n",
       "APPROVED_AMT_GOODS_PRICE_MIN             True\n",
       "APPROVED_AMT_GOODS_PRICE_MAX             True\n",
       "APPROVED_AMT_GOODS_PRICE_MEAN            True\n",
       "APPROVED_HOUR_APPR_PROCESS_START_MIN     True\n",
       "APPROVED_HOUR_APPR_PROCESS_START_MAX     True\n",
       "APPROVED_HOUR_APPR_PROCESS_START_MEAN    True\n",
       "APPROVED_RATE_DOWN_PAYMENT_MIN           True\n",
       "APPROVED_RATE_DOWN_PAYMENT_MAX           True\n",
       "APPROVED_RATE_DOWN_PAYMENT_MEAN          True\n",
       "APPROVED_DAYS_DECISION_MIN               True\n",
       "APPROVED_DAYS_DECISION_MAX               True\n",
       "APPROVED_DAYS_DECISION_MEAN              True\n",
       "APPROVED_CNT_PAYMENT_MEAN                True\n",
       "APPROVED_CNT_PAYMENT_SUM                 True\n",
       "dtype: bool"
      ]
     },
     "execution_count": 41,
     "metadata": {},
     "output_type": "execute_result"
    }
   ],
   "source": [
    "prev_agg.isna().any()[prev_agg.isna().any()]"
   ]
  },
  {
   "cell_type": "code",
   "execution_count": 70,
   "metadata": {},
   "outputs": [
    {
     "name": "stderr",
     "output_type": "stream",
     "text": [
      "/home/zadiq/dev/competitions/home_credit_kaggle/venv/lib/python3.6/site-packages/ipykernel_launcher.py:2: SettingWithCopyWarning: \n",
      "A value is trying to be set on a copy of a slice from a DataFrame\n",
      "\n",
      "See the caveats in the documentation: http://pandas.pydata.org/pandas-docs/stable/indexing.html#indexing-view-versus-copy\n",
      "  \n"
     ]
    }
   ],
   "source": [
    "for c in approved_agg.columns:\n",
    "    prev_agg.loc[:, c][prev_agg.loc[:, c].isna()] = 0."
   ]
  },
  {
   "cell_type": "code",
   "execution_count": 83,
   "metadata": {
    "scrolled": true
   },
   "outputs": [
    {
     "data": {
      "text/plain": [
       "Index(['PREV_AMT_ANNUITY_MIN', 'PREV_AMT_ANNUITY_MAX', 'PREV_AMT_ANNUITY_MEAN',\n",
       "       'PREV_APP_CREDIT_PERC_MIN', 'PREV_APP_CREDIT_PERC_MAX',\n",
       "       'PREV_APP_CREDIT_PERC_MEAN', 'PREV_APP_CREDIT_PERC_VAR',\n",
       "       'PREV_AMT_DOWN_PAYMENT_MIN', 'PREV_AMT_DOWN_PAYMENT_MAX',\n",
       "       'PREV_AMT_DOWN_PAYMENT_MEAN', 'PREV_AMT_GOODS_PRICE_MIN',\n",
       "       'PREV_AMT_GOODS_PRICE_MAX', 'PREV_AMT_GOODS_PRICE_MEAN',\n",
       "       'PREV_RATE_DOWN_PAYMENT_MIN', 'PREV_RATE_DOWN_PAYMENT_MAX',\n",
       "       'PREV_RATE_DOWN_PAYMENT_MEAN', 'PREV_CNT_PAYMENT_MEAN'],\n",
       "      dtype='object')"
      ]
     },
     "execution_count": 83,
     "metadata": {},
     "output_type": "execute_result"
    }
   ],
   "source": [
    "other_nan_col = prev_agg.isna().any()[prev_agg.isna().any()].index\n",
    "other_nan_col"
   ]
  },
  {
   "cell_type": "code",
   "execution_count": 97,
   "metadata": {},
   "outputs": [],
   "source": [
    "nan_mean = {}\n",
    "for c in other_nan_col:\n",
    "    nan_mean[c] = prev_agg[c].mean()\n",
    "    mask = prev_agg[c].isna()\n",
    "    prev_agg.loc[mask, c] = nan_mean[c]\n",
    "\n",
    "prev_agg['PREV_AMT_ANNUITY_ANOM'] = (prev_agg['PREV_AMT_ANNUITY_MEAN'] == nan_mean['PREV_AMT_ANNUITY_MEAN']).astype('float32')\n",
    "prev_agg['PREV_APP_CREDIT_PERC_ANOM'] = (prev_agg['PREV_APP_CREDIT_PERC_MEAN'] == nan_mean['PREV_APP_CREDIT_PERC_MEAN']).astype('float32')\n",
    "prev_agg['PREV_AMT_DOWN_PAYMENT_ANOM'] = (prev_agg['PREV_AMT_DOWN_PAYMENT_MEAN'] == nan_mean['PREV_AMT_DOWN_PAYMENT_MEAN']).astype('float32')\n",
    "prev_agg['PREV_RATE_DOWN_PAYMENT_ANOM'] = (prev_agg['PREV_RATE_DOWN_PAYMENT_MEAN'] == nan_mean['PREV_RATE_DOWN_PAYMENT_MEAN']).astype('float32')\n",
    "prev_agg['PREV_CNT_PAYMENT_ANOM'] = (prev_agg['PREV_CNT_PAYMENT_MEAN'] == nan_mean['PREV_CNT_PAYMENT_MEAN']).astype('float32')\n",
    "prev_agg['PREV_AMT_GOODS_PRICE_ANOM'] = (prev_agg['PREV_AMT_GOODS_PRICE_MEAN'] == nan_mean['PREV_AMT_GOODS_PRICE_MEAN']).astype('float32')\n"
   ]
  },
  {
   "cell_type": "code",
   "execution_count": 101,
   "metadata": {},
   "outputs": [],
   "source": [
    "refused = pre_app[pre_app['NAME_CONTRACT_STATUS_Refused'] == 1]\n",
    "refused_agg = refused.groupby('SK_ID_CURR').agg(num_agg)\n",
    "refused_agg.columns = pd.Index(['REFUSED_' + e[0] + \"_\" + e[1].upper() for e in refused_agg.columns.tolist()])"
   ]
  },
  {
   "cell_type": "code",
   "execution_count": 102,
   "metadata": {},
   "outputs": [],
   "source": [
    "prev_agg = prev_agg.join(refused_agg, how='left', on='SK_ID_CURR')"
   ]
  },
  {
   "cell_type": "code",
   "execution_count": 108,
   "metadata": {},
   "outputs": [],
   "source": [
    "for c in refused_agg.columns:\n",
    "    mask = prev_agg[c].isna()\n",
    "    prev_agg.loc[mask, c] = 0."
   ]
  },
  {
   "cell_type": "code",
   "execution_count": 112,
   "metadata": {},
   "outputs": [],
   "source": [
    "del pre_app, refused, refused_agg, approved_agg, approved"
   ]
  },
  {
   "cell_type": "code",
   "execution_count": 124,
   "metadata": {
    "scrolled": true
   },
   "outputs": [
    {
     "data": {
      "text/plain": [
       "Series([], dtype: float64)"
      ]
     },
     "execution_count": 124,
     "metadata": {},
     "output_type": "execute_result"
    }
   ],
   "source": [
    "get_missing_col(prev_agg)"
   ]
  },
  {
   "cell_type": "code",
   "execution_count": null,
   "metadata": {},
   "outputs": [],
   "source": [
    "bool_col = [c for c in prev_agg.columns if prev_agg[c].dtype == 'bool']\n",
    "\n",
    "for c in bool_col:\n",
    "    prev_agg[c] = prev_agg[c].astype('float32')\n",
    "    \n",
    "with open(get_file('c_pre_app_meta'), 'w') as paj:\n",
    "    json.dump(generate_meta(prev_agg, 'PREV'), paj)"
   ]
  },
  {
   "cell_type": "code",
   "execution_count": 20,
   "metadata": {},
   "outputs": [],
   "source": [
    "prev_agg.to_csv(get_file('c_pre_app'))"
   ]
  },
  {
   "cell_type": "code",
   "execution_count": null,
   "metadata": {},
   "outputs": [],
   "source": [
    "del prev_agg"
   ]
  },
  {
   "cell_type": "markdown",
   "metadata": {},
   "source": [
    "---"
   ]
  },
  {
   "cell_type": "markdown",
   "metadata": {},
   "source": [
    "# Bureau and Balance"
   ]
  },
  {
   "cell_type": "code",
   "execution_count": 24,
   "metadata": {},
   "outputs": [],
   "source": [
    "bu = pd.read_csv(get_file('bureau'))\n",
    "bb = pd.read_csv(get_file('bureau_bal'))"
   ]
  },
  {
   "cell_type": "code",
   "execution_count": 28,
   "metadata": {},
   "outputs": [],
   "source": [
    "bb, bb_cat = one_hot_encode(bb)\n",
    "bu, bu_cat = one_hot_encode(bu)"
   ]
  },
  {
   "cell_type": "code",
   "execution_count": 31,
   "metadata": {},
   "outputs": [],
   "source": [
    "bb_aggregations = {'MONTHS_BALANCE': ['min', 'max', 'size', 'var']}\n",
    "for col in bb_cat:\n",
    "    bb_aggregations[col] = ['mean']\n",
    "bb_agg = bb.groupby('SK_ID_BUREAU').agg(bb_aggregations)\n",
    "bb_agg.columns = pd.Index([e[0] + \"_\" + e[1].upper() for e in bb_agg.columns.tolist()])"
   ]
  },
  {
   "cell_type": "code",
   "execution_count": 33,
   "metadata": {},
   "outputs": [
    {
     "data": {
      "text/plain": [
       "177"
      ]
     },
     "execution_count": 33,
     "metadata": {},
     "output_type": "execute_result"
    }
   ],
   "source": [
    "bu = bu.join(bb_agg, how='left', on='SK_ID_BUREAU')\n",
    "bu.drop(['SK_ID_BUREAU'], axis=1, inplace= True)\n",
    "del bb, bb_agg\n",
    "gc.collect()"
   ]
  },
  {
   "cell_type": "code",
   "execution_count": 37,
   "metadata": {},
   "outputs": [],
   "source": [
    "num_aggregations = {\n",
    "    'DAYS_CREDIT': ['min', 'max', 'mean', 'var'],\n",
    "    'DAYS_CREDIT_ENDDATE': ['min', 'max', 'mean'],\n",
    "    'DAYS_CREDIT_UPDATE': ['mean'],\n",
    "    'CREDIT_DAY_OVERDUE': ['max', 'mean'],\n",
    "    'AMT_CREDIT_MAX_OVERDUE': ['mean'],\n",
    "    'AMT_CREDIT_SUM': ['max', 'mean', 'sum'],\n",
    "    'AMT_CREDIT_SUM_DEBT': ['max', 'mean', 'sum'],\n",
    "    'AMT_CREDIT_SUM_OVERDUE': ['mean'],\n",
    "    'AMT_CREDIT_SUM_LIMIT': ['mean', 'sum'],\n",
    "    'AMT_ANNUITY': ['max', 'mean'],\n",
    "    'CNT_CREDIT_PROLONG': ['sum'],\n",
    "    'MONTHS_BALANCE_MIN': ['min'],\n",
    "    'MONTHS_BALANCE_MAX': ['max'],\n",
    "    'MONTHS_BALANCE_SIZE': ['mean', 'sum']\n",
    "}\n",
    "cat_aggregations = {}\n",
    "for cat in bu_cat: cat_aggregations[cat] = ['mean']\n",
    "for cat in bb_cat: cat_aggregations[cat + \"_MEAN\"] = ['mean']\n",
    "\n",
    "bureau_agg = bu.groupby('SK_ID_CURR').agg({**num_aggregations, **cat_aggregations})\n",
    "bureau_agg.columns = pd.Index(['BURO_' + e[0] + \"_\" + e[1].upper() for e in bureau_agg.columns.tolist()])"
   ]
  },
  {
   "cell_type": "code",
   "execution_count": 38,
   "metadata": {},
   "outputs": [
    {
     "data": {
      "text/plain": [
       "BURO_AMT_ANNUITY_MEAN               61.340828\n",
       "BURO_AMT_ANNUITY_MAX                61.340828\n",
       "BURO_STATUS_0_MEAN_MEAN             56.004853\n",
       "BURO_STATUS_X_MEAN_MEAN             56.004853\n",
       "BURO_MONTHS_BALANCE_MIN_MIN         56.004853\n",
       "BURO_MONTHS_BALANCE_MAX_MAX         56.004853\n",
       "BURO_MONTHS_BALANCE_SIZE_MEAN       56.004853\n",
       "BURO_STATUS_nan_MEAN_MEAN           56.004853\n",
       "BURO_STATUS_1_MEAN_MEAN             56.004853\n",
       "BURO_STATUS_2_MEAN_MEAN             56.004853\n",
       "BURO_STATUS_3_MEAN_MEAN             56.004853\n",
       "BURO_STATUS_4_MEAN_MEAN             56.004853\n",
       "BURO_STATUS_5_MEAN_MEAN             56.004853\n",
       "BURO_STATUS_C_MEAN_MEAN             56.004853\n",
       "BURO_AMT_CREDIT_MAX_OVERDUE_MEAN    30.358620\n",
       "BURO_DAYS_CREDIT_VAR                13.577013\n",
       "BURO_AMT_CREDIT_SUM_LIMIT_MEAN       8.275700\n",
       "BURO_AMT_CREDIT_SUM_DEBT_MEAN        2.737639\n",
       "BURO_AMT_CREDIT_SUM_DEBT_MAX         2.737639\n",
       "BURO_DAYS_CREDIT_ENDDATE_MEAN        0.845293\n",
       "BURO_DAYS_CREDIT_ENDDATE_MAX         0.845293\n",
       "BURO_DAYS_CREDIT_ENDDATE_MIN         0.845293\n",
       "BURO_AMT_CREDIT_SUM_MEAN             0.000654\n",
       "BURO_AMT_CREDIT_SUM_MAX              0.000654\n",
       "dtype: float64"
      ]
     },
     "execution_count": 38,
     "metadata": {},
     "output_type": "execute_result"
    }
   ],
   "source": [
    "get_missing_col(bureau_agg)"
   ]
  },
  {
   "cell_type": "code",
   "execution_count": 45,
   "metadata": {},
   "outputs": [],
   "source": [
    "missing_bal = ['BURO_STATUS_0_MEAN_MEAN',\n",
    "'BURO_STATUS_X_MEAN_MEAN',\n",
    "'BURO_MONTHS_BALANCE_MIN_MIN',\n",
    "'BURO_MONTHS_BALANCE_MAX_MAX',\n",
    "'BURO_MONTHS_BALANCE_SIZE_MEAN',\n",
    "'BURO_STATUS_nan_MEAN_MEAN',\n",
    "'BURO_STATUS_1_MEAN_MEAN',\n",
    "'BURO_STATUS_2_MEAN_MEAN',\n",
    "'BURO_STATUS_3_MEAN_MEAN',\n",
    "'BURO_STATUS_4_MEAN_MEAN',\n",
    "'BURO_STATUS_5_MEAN_MEAN',\n",
    "'BURO_STATUS_C_MEAN_MEAN',]\n",
    "\n",
    "for c in missing_bal:\n",
    "    mask = bureau_agg[c].isna()\n",
    "    bureau_agg.loc[mask, c] = 0.\n",
    "\n",
    "bureau_agg['BURO_MISSING_BALANCE'] = mask.astype('float32')"
   ]
  },
  {
   "cell_type": "code",
   "execution_count": 61,
   "metadata": {},
   "outputs": [
    {
     "data": {
      "text/plain": [
       "Index(['BURO_AMT_ANNUITY_MEAN', 'BURO_AMT_ANNUITY_MAX',\n",
       "       'BURO_AMT_CREDIT_MAX_OVERDUE_MEAN', 'BURO_DAYS_CREDIT_VAR',\n",
       "       'BURO_AMT_CREDIT_SUM_LIMIT_MEAN', 'BURO_AMT_CREDIT_SUM_DEBT_MEAN',\n",
       "       'BURO_AMT_CREDIT_SUM_DEBT_MAX', 'BURO_DAYS_CREDIT_ENDDATE_MEAN',\n",
       "       'BURO_DAYS_CREDIT_ENDDATE_MAX', 'BURO_DAYS_CREDIT_ENDDATE_MIN',\n",
       "       'BURO_AMT_CREDIT_SUM_MEAN', 'BURO_AMT_CREDIT_SUM_MAX'],\n",
       "      dtype='object')"
      ]
     },
     "execution_count": 61,
     "metadata": {},
     "output_type": "execute_result"
    }
   ],
   "source": [
    "# fill other columns with missing data\n",
    "other_nan_col = get_missing_col(bureau_agg).index\n",
    "other_nan_col"
   ]
  },
  {
   "cell_type": "code",
   "execution_count": 62,
   "metadata": {},
   "outputs": [],
   "source": [
    "# BURO_AMT_ANNUITY_ANOM\n",
    "# BURO_AMT_CREDIT_MAX_OVERDUE_ANOM\n",
    "# BURO_DAYS_CREDIT_ANOM\n",
    "# BURO_AMT_CREDIT_SUM_LIMIT_ANOM\n",
    "# BURO_AMT_CREDIT_SUM_DEBT_ANOM\n",
    "# BURO_DAYS_CREDIT_ENDDATE_ANOM\n",
    "# BURO_AMT_CREDIT_SUM_ANOM\n",
    "\n",
    "nan_mean = {}\n",
    "for c in other_nan_col:\n",
    "    nan_mean[c] = bureau_agg[c].mean()\n",
    "    mask = bureau_agg[c].isna()\n",
    "    bureau_agg.loc[mask, c] = nan_mean[c]\n",
    "other_nan_col= []"
   ]
  },
  {
   "cell_type": "code",
   "execution_count": 63,
   "metadata": {},
   "outputs": [],
   "source": [
    "bureau_agg['BURO_AMT_ANNUITY_ANOM'] = (bureau_agg['BURO_AMT_ANNUITY_MEAN'] == nan_mean['BURO_AMT_ANNUITY_MEAN']).astype('float32')\n",
    "bureau_agg['BURO_AMT_CREDIT_MAX_OVERDUE_ANOM'] = (bureau_agg['BURO_AMT_CREDIT_MAX_OVERDUE_MEAN'] == nan_mean['BURO_AMT_CREDIT_MAX_OVERDUE_MEAN']).astype('float32')\n",
    "bureau_agg['BURO_DAYS_CREDIT_ANOM'] = (bureau_agg['BURO_DAYS_CREDIT_VAR'] == nan_mean['BURO_DAYS_CREDIT_VAR']).astype('float32')\n",
    "bureau_agg['BURO_AMT_CREDIT_SUM_LIMIT_ANOM'] = (bureau_agg['BURO_AMT_CREDIT_SUM_LIMIT_MEAN'] == nan_mean['BURO_AMT_CREDIT_SUM_LIMIT_MEAN']).astype('float32')\n",
    "bureau_agg['BURO_AMT_CREDIT_SUM_DEBT_ANOM'] = (bureau_agg['BURO_AMT_CREDIT_SUM_DEBT_MEAN'] == nan_mean['BURO_AMT_CREDIT_SUM_DEBT_MEAN']).astype('float32')\n",
    "bureau_agg['BURO_DAYS_CREDIT_ENDDATE_ANOM'] = (bureau_agg['BURO_DAYS_CREDIT_ENDDATE_MEAN'] == nan_mean['BURO_DAYS_CREDIT_ENDDATE_MEAN']).astype('float32')\n",
    "bureau_agg['BURO_AMT_CREDIT_SUM_ANOM'] = (bureau_agg['BURO_AMT_CREDIT_SUM_MEAN'] == nan_mean['BURO_AMT_CREDIT_SUM_MEAN']).astype('float32')\n"
   ]
  },
  {
   "cell_type": "code",
   "execution_count": 64,
   "metadata": {},
   "outputs": [
    {
     "data": {
      "text/plain": [
       "Series([], dtype: float64)"
      ]
     },
     "execution_count": 64,
     "metadata": {},
     "output_type": "execute_result"
    }
   ],
   "source": [
    "get_missing_col(bureau_agg)"
   ]
  },
  {
   "cell_type": "code",
   "execution_count": 67,
   "metadata": {},
   "outputs": [
    {
     "data": {
      "text/plain": [
       "1273"
      ]
     },
     "execution_count": 67,
     "metadata": {},
     "output_type": "execute_result"
    }
   ],
   "source": [
    "active = bu[bu['CREDIT_ACTIVE_Active'] == 1]\n",
    "active_agg = active.groupby('SK_ID_CURR').agg(num_aggregations)\n",
    "cols = active_agg.columns.tolist()\n",
    "active_agg.columns = pd.Index(['BURO_ACTIVE_' + e[0] + \"_\" + e[1].upper() for e in active_agg.columns.tolist()])\n",
    "bureau_agg = bureau_agg.join(active_agg, how='left', on='SK_ID_CURR')\n",
    "del active, active_agg\n",
    "gc.collect()"
   ]
  },
  {
   "cell_type": "code",
   "execution_count": null,
   "metadata": {},
   "outputs": [],
   "source": [
    "closed = bu[bu['CREDIT_ACTIVE_Closed'] == 1]\n",
    "closed_agg = closed.groupby('SK_ID_CURR').agg(num_aggregations)\n",
    "closed_agg.columns = pd.Index(['BURO_CLOSED_' + e[0] + \"_\" + e[1].upper() for e in closed_agg.columns.tolist()])\n",
    "bureau_agg = bureau_agg.join(closed_agg, how='left', on='SK_ID_CURR')\n",
    "\n",
    "del closed, closed_agg, bu"
   ]
  },
  {
   "cell_type": "code",
   "execution_count": 80,
   "metadata": {},
   "outputs": [],
   "source": [
    "for c in get_missing_col(bureau_agg).index:\n",
    "    mask = bureau_agg[c].isna()\n",
    "    bureau_agg.loc[mask, c] = 0."
   ]
  },
  {
   "cell_type": "code",
   "execution_count": 83,
   "metadata": {},
   "outputs": [],
   "source": [
    "with open(get_file('c_bu_meta'), 'w') as fp:\n",
    "    json.dump(generate_meta(bureau_agg, 'BURO'), fp)\n"
   ]
  },
  {
   "cell_type": "code",
   "execution_count": 84,
   "metadata": {},
   "outputs": [],
   "source": [
    "bureau_agg.to_csv(get_file('c_bu')"
   ]
  },
  {
   "cell_type": "code",
   "execution_count": 85,
   "metadata": {},
   "outputs": [],
   "source": [
    "del bureau_agg"
   ]
  },
  {
   "cell_type": "markdown",
   "metadata": {},
   "source": [
    "---"
   ]
  },
  {
   "cell_type": "markdown",
   "metadata": {},
   "source": [
    "# POS Cash Balance"
   ]
  },
  {
   "cell_type": "code",
   "execution_count": 4,
   "metadata": {},
   "outputs": [],
   "source": [
    "pos = pd.read_csv(get_file('pc_bal'))\n",
    "pos, cat_cols = one_hot_encode(pos)"
   ]
  },
  {
   "cell_type": "code",
   "execution_count": 7,
   "metadata": {},
   "outputs": [],
   "source": [
    "aggregations = {\n",
    "    'MONTHS_BALANCE': ['max', 'mean', 'size'],\n",
    "    'SK_DPD': ['max', 'mean'],\n",
    "    'SK_DPD_DEF': ['max', 'mean']\n",
    "}\n",
    "for cat in cat_cols:\n",
    "    aggregations[cat] = ['mean']"
   ]
  },
  {
   "cell_type": "code",
   "execution_count": 8,
   "metadata": {},
   "outputs": [],
   "source": [
    "pos_agg = pos.groupby('SK_ID_CURR').agg(aggregations)\n",
    "pos_agg.columns = pd.Index(['POS_' + e[0] + \"_\" + e[1].upper() for e in pos_agg.columns.tolist()])\n",
    "# Count pos cash accounts\n",
    "pos_agg['POS_COUNT'] = pos.groupby('SK_ID_CURR').size()"
   ]
  },
  {
   "cell_type": "code",
   "execution_count": 10,
   "metadata": {},
   "outputs": [
    {
     "data": {
      "text/plain": [
       "Series([], dtype: float64)"
      ]
     },
     "execution_count": 10,
     "metadata": {},
     "output_type": "execute_result"
    }
   ],
   "source": [
    "get_missing_col(pos_agg)"
   ]
  },
  {
   "cell_type": "code",
   "execution_count": 11,
   "metadata": {},
   "outputs": [],
   "source": [
    "with open(get_file('c_pc_bal_meta'), 'w') as fp:\n",
    "    json.dump(generate_meta(pos_agg, 'POS'), fp)\n",
    "\n",
    "pos_agg.to_csv(get_file('c_pc_bal'))"
   ]
  },
  {
   "cell_type": "code",
   "execution_count": 12,
   "metadata": {},
   "outputs": [
    {
     "data": {
      "text/plain": [
       "140"
      ]
     },
     "execution_count": 12,
     "metadata": {},
     "output_type": "execute_result"
    }
   ],
   "source": [
    "del pos_agg, pos\n",
    "gc.collect()"
   ]
  },
  {
   "cell_type": "markdown",
   "metadata": {},
   "source": [
    "---"
   ]
  },
  {
   "cell_type": "markdown",
   "metadata": {},
   "source": [
    "# Credit Card Balance"
   ]
  },
  {
   "cell_type": "code",
   "execution_count": 18,
   "metadata": {},
   "outputs": [],
   "source": [
    "cc = pd.read_csv(get_file('cc_bal'))\n",
    "cc, cat_cols = one_hot_encode(cc)"
   ]
  },
  {
   "cell_type": "markdown",
   "metadata": {},
   "source": [
    "'AMT_PAYMENT_CURRENT',\n",
    "'CNT_DRAWINGS_POS_CURRENT',\n",
    "'CNT_INSTALMENT_MATURE_CUM'"
   ]
  },
  {
   "cell_type": "code",
   "execution_count": 19,
   "metadata": {},
   "outputs": [],
   "source": [
    "nan_mean = {}\n",
    "for c in get_missing_col(cc).index:\n",
    "    nan_mean[c] = cc[c].mean()\n",
    "    mask = cc[c].isna()\n",
    "    cc.loc[mask, c] = nan_mean[c]"
   ]
  },
  {
   "cell_type": "code",
   "execution_count": 21,
   "metadata": {},
   "outputs": [],
   "source": [
    "cc['CC_AMT_PAYMENT_CURRENT_ANOM'] = (cc['AMT_PAYMENT_CURRENT'] == nan_mean['AMT_PAYMENT_CURRENT']).astype('float32')\n",
    "cc['CC_CNT_DRAWINGS_ANOM'] = (cc['CNT_DRAWINGS_POS_CURRENT'] == nan_mean['CNT_DRAWINGS_POS_CURRENT']).astype('float32')\n",
    "cc['CC_INSTALMENT_ANOM'] = (cc['CNT_INSTALMENT_MATURE_CUM'] == nan_mean['CNT_INSTALMENT_MATURE_CUM']).astype('float32')"
   ]
  },
  {
   "cell_type": "code",
   "execution_count": 23,
   "metadata": {},
   "outputs": [],
   "source": [
    "cc.drop(['SK_ID_PREV'], axis= 1, inplace=True)\n",
    "cc_agg = cc.groupby('SK_ID_CURR').agg(['min', 'max', 'mean', 'sum', 'var'])\n",
    "cc_agg.columns = pd.Index(['CC_' + e[0] + \"_\" + e[1].upper() for e in cc_agg.columns.tolist()])\n",
    "# Count credit card lines\n",
    "cc_agg['CC_COUNT'] = cc.groupby('SK_ID_CURR').size()"
   ]
  },
  {
   "cell_type": "code",
   "execution_count": 25,
   "metadata": {
    "scrolled": true
   },
   "outputs": [],
   "source": [
    "for c in get_missing_col(cc_agg).index:\n",
    "    mask = cc_agg[c].isna()\n",
    "    cc_agg.loc[mask, c] = 0.\n",
    "\n",
    "cc_agg['CC_VAR_ANOM'] = mask.astype('float32')"
   ]
  },
  {
   "cell_type": "code",
   "execution_count": 28,
   "metadata": {},
   "outputs": [],
   "source": [
    "with open(get_file('c_cc_bal_meta'), 'w') as fp:\n",
    "    json.dump(generate_meta(cc_agg, 'CC'), fp)\n",
    "\n",
    "cc_agg.to_csv(get_file('c_cc_bal'))"
   ]
  },
  {
   "cell_type": "code",
   "execution_count": 29,
   "metadata": {},
   "outputs": [
    {
     "data": {
      "text/plain": [
       "298"
      ]
     },
     "execution_count": 29,
     "metadata": {},
     "output_type": "execute_result"
    }
   ],
   "source": [
    "del cc, cc_agg\n",
    "gc.collect()"
   ]
  },
  {
   "cell_type": "markdown",
   "metadata": {},
   "source": [
    "---"
   ]
  },
  {
   "cell_type": "markdown",
   "metadata": {},
   "source": [
    "# Installment "
   ]
  },
  {
   "cell_type": "code",
   "execution_count": 2,
   "metadata": {},
   "outputs": [],
   "source": [
    "ins = pd.read_csv(get_file('ins_pay'))\n",
    "ins, cat_cols = one_hot_encode(ins)"
   ]
  },
  {
   "cell_type": "code",
   "execution_count": 5,
   "metadata": {},
   "outputs": [],
   "source": [
    "for c in get_missing_col(ins).index:\n",
    "    mask = ins[c].isna()\n",
    "    mean = ins[c].mean()\n",
    "    ins.loc[mask, c] = mean\n",
    "    \n",
    "ins['PAYMENT_ANOM'] = mask.astype('float32')"
   ]
  },
  {
   "cell_type": "code",
   "execution_count": 8,
   "metadata": {},
   "outputs": [],
   "source": [
    "ins['PAYMENT_PERC'] = ins['AMT_PAYMENT'] / ins['AMT_INSTALMENT']\n",
    "ins['PAYMENT_DIFF'] = ins['AMT_INSTALMENT'] - ins['AMT_PAYMENT']"
   ]
  },
  {
   "cell_type": "code",
   "execution_count": 12,
   "metadata": {},
   "outputs": [],
   "source": [
    "for c in get_missing_col(ins).index:\n",
    "    mask = ins[c].isna()\n",
    "    mean = ins[c].mean()\n",
    "    ins.loc[mask, c] = mean"
   ]
  },
  {
   "cell_type": "code",
   "execution_count": 14,
   "metadata": {},
   "outputs": [],
   "source": [
    "ins['DPD'] = ins['DAYS_ENTRY_PAYMENT'] - ins['DAYS_INSTALMENT']\n",
    "ins['DBD'] = ins['DAYS_INSTALMENT'] - ins['DAYS_ENTRY_PAYMENT']\n",
    "ins['DPD'] = ins['DPD'].apply(lambda x: x if x > 0 else 0)\n",
    "ins['DBD'] = ins['DBD'].apply(lambda x: x if x > 0 else 0)"
   ]
  },
  {
   "cell_type": "code",
   "execution_count": 17,
   "metadata": {},
   "outputs": [],
   "source": [
    "aggregations = {\n",
    "    'NUM_INSTALMENT_VERSION': ['nunique'],\n",
    "    'DPD': ['max', 'mean', 'sum'],\n",
    "    'DBD': ['max', 'mean', 'sum'],\n",
    "    'PAYMENT_PERC': ['max', 'mean', 'sum', 'var'],\n",
    "    'PAYMENT_DIFF': ['max', 'mean', 'sum', 'var'],\n",
    "    'AMT_INSTALMENT': ['max', 'mean', 'sum'],\n",
    "    'AMT_PAYMENT': ['min', 'max', 'mean', 'sum'],\n",
    "    'DAYS_ENTRY_PAYMENT': ['max', 'mean', 'sum']\n",
    "}\n",
    "for cat in cat_cols:\n",
    "    aggregations[cat] = ['mean']\n",
    "ins_agg = ins.groupby('SK_ID_CURR').agg(aggregations)\n",
    "ins_agg.columns = pd.Index(['INSTAL_' + e[0] + \"_\" + e[1].upper() for e in ins_agg.columns.tolist()])\n",
    "# Count installments accounts\n",
    "ins_agg['INSTAL_COUNT'] = ins.groupby('SK_ID_CURR').size()"
   ]
  },
  {
   "cell_type": "code",
   "execution_count": 19,
   "metadata": {},
   "outputs": [],
   "source": [
    "nan_mean = {}\n",
    "for c in get_missing_col(ins_agg).index:\n",
    "    nan_mean[c] = ins_agg[c].mean()\n",
    "    mask = ins_agg[c].isna()\n",
    "    ins_agg.loc[mask, c] = nan_mean[c]\n",
    "\n",
    "ins_agg['INSTAL_PAYMENT_PERC_VAR_ANOM'] = (ins_agg['INSTAL_PAYMENT_PERC_VAR'] == nan_mean['INSTAL_PAYMENT_PERC_VAR']).astype('float32')\n",
    "ins_agg['INSTAL_PAYMENT_DIFF_VAR_ANOM'] = (ins_agg['INSTAL_PAYMENT_DIFF_VAR'] == nan_mean['INSTAL_PAYMENT_DIFF_VAR']).astype('float32')"
   ]
  },
  {
   "cell_type": "code",
   "execution_count": 21,
   "metadata": {},
   "outputs": [],
   "source": [
    "with open(get_file('c_ins_pay_meta'), 'w') as fp:\n",
    "    json.dump(generate_meta(ins_agg, 'INSTAL'), fp)\n",
    "\n",
    "ins_agg.to_csv(get_file('c_ins_pay'))"
   ]
  },
  {
   "cell_type": "code",
   "execution_count": 22,
   "metadata": {},
   "outputs": [
    {
     "data": {
      "text/plain": [
       "130"
      ]
     },
     "execution_count": 22,
     "metadata": {},
     "output_type": "execute_result"
    }
   ],
   "source": [
    "del ins, ins_agg\n",
    "gc.collect()"
   ]
  },
  {
   "cell_type": "markdown",
   "metadata": {},
   "source": [
    "---"
   ]
  },
  {
   "cell_type": "markdown",
   "metadata": {},
   "source": [
    "# Applications"
   ]
  },
  {
   "cell_type": "code",
   "execution_count": 2,
   "metadata": {},
   "outputs": [],
   "source": [
    "df = pd.read_csv(get_file('app_train'))\n",
    "test_df = pd.read_csv(get_file('app_test'))"
   ]
  },
  {
   "cell_type": "code",
   "execution_count": 3,
   "metadata": {},
   "outputs": [],
   "source": [
    "meta_data = {\n",
    "    'raw_train_ix': df.index.tolist(),\n",
    "    'raw_test_ix': test_df.index.tolist(),\n",
    "    'raw_train_id': df['SK_ID_CURR'].values.tolist(),\n",
    "    'raw_test_id': test_df['SK_ID_CURR'].values.tolist(),\n",
    "}"
   ]
  },
  {
   "cell_type": "code",
   "execution_count": 4,
   "metadata": {},
   "outputs": [],
   "source": [
    "df = df.append(test_df, sort=True).reset_index()"
   ]
  },
  {
   "cell_type": "code",
   "execution_count": 5,
   "metadata": {
    "scrolled": true
   },
   "outputs": [
    {
     "data": {
      "text/plain": [
       "Index(['COMMONAREA_MODE', 'COMMONAREA_AVG', 'COMMONAREA_MEDI',\n",
       "       'NONLIVINGAPARTMENTS_MEDI', 'NONLIVINGAPARTMENTS_MODE',\n",
       "       'NONLIVINGAPARTMENTS_AVG', 'FONDKAPREMONT_MODE', 'LIVINGAPARTMENTS_AVG',\n",
       "       'LIVINGAPARTMENTS_MEDI', 'LIVINGAPARTMENTS_MODE', 'FLOORSMIN_AVG',\n",
       "       'FLOORSMIN_MEDI', 'FLOORSMIN_MODE', 'YEARS_BUILD_MODE',\n",
       "       'YEARS_BUILD_MEDI', 'YEARS_BUILD_AVG', 'OWN_CAR_AGE', 'LANDAREA_AVG',\n",
       "       'LANDAREA_MEDI', 'LANDAREA_MODE', 'BASEMENTAREA_MEDI',\n",
       "       'BASEMENTAREA_AVG', 'BASEMENTAREA_MODE', 'NONLIVINGAREA_AVG',\n",
       "       'NONLIVINGAREA_MODE', 'NONLIVINGAREA_MEDI', 'EXT_SOURCE_1',\n",
       "       'ELEVATORS_MODE', 'ELEVATORS_AVG', 'ELEVATORS_MEDI',\n",
       "       'WALLSMATERIAL_MODE', 'APARTMENTS_MODE', 'APARTMENTS_MEDI',\n",
       "       'APARTMENTS_AVG', 'ENTRANCES_AVG', 'ENTRANCES_MODE', 'ENTRANCES_MEDI',\n",
       "       'HOUSETYPE_MODE', 'LIVINGAREA_AVG', 'LIVINGAREA_MEDI',\n",
       "       'LIVINGAREA_MODE', 'FLOORSMAX_MODE', 'FLOORSMAX_AVG', 'FLOORSMAX_MEDI',\n",
       "       'YEARS_BEGINEXPLUATATION_MODE', 'YEARS_BEGINEXPLUATATION_MEDI',\n",
       "       'YEARS_BEGINEXPLUATATION_AVG', 'TOTALAREA_MODE', 'EMERGENCYSTATE_MODE',\n",
       "       'OCCUPATION_TYPE', 'EXT_SOURCE_3', 'TARGET',\n",
       "       'AMT_REQ_CREDIT_BUREAU_WEEK', 'AMT_REQ_CREDIT_BUREAU_YEAR',\n",
       "       'AMT_REQ_CREDIT_BUREAU_QRT', 'AMT_REQ_CREDIT_BUREAU_HOUR',\n",
       "       'AMT_REQ_CREDIT_BUREAU_MON', 'AMT_REQ_CREDIT_BUREAU_DAY',\n",
       "       'NAME_TYPE_SUITE', 'OBS_30_CNT_SOCIAL_CIRCLE',\n",
       "       'DEF_30_CNT_SOCIAL_CIRCLE', 'DEF_60_CNT_SOCIAL_CIRCLE',\n",
       "       'OBS_60_CNT_SOCIAL_CIRCLE', 'EXT_SOURCE_2', 'AMT_GOODS_PRICE',\n",
       "       'AMT_ANNUITY', 'CNT_FAM_MEMBERS', 'DAYS_LAST_PHONE_CHANGE'],\n",
       "      dtype='object')"
      ]
     },
     "execution_count": 5,
     "metadata": {},
     "output_type": "execute_result"
    }
   ],
   "source": [
    "get_missing_col(df).index"
   ]
  },
  {
   "cell_type": "code",
   "execution_count": 6,
   "metadata": {},
   "outputs": [],
   "source": [
    "docs = [_f for _f in df.columns if 'FLAG_DOC' in _f]\n",
    "live = [_f for _f in df.columns if ('FLAG_' in _f) & ('FLAG_DOC' not in _f) & ('_FLAG_' not in _f)]"
   ]
  },
  {
   "cell_type": "code",
   "execution_count": 7,
   "metadata": {},
   "outputs": [],
   "source": [
    "inc_by_org = df[['AMT_INCOME_TOTAL', 'ORGANIZATION_TYPE']].groupby('ORGANIZATION_TYPE').median()['AMT_INCOME_TOTAL']"
   ]
  },
  {
   "cell_type": "code",
   "execution_count": 8,
   "metadata": {},
   "outputs": [],
   "source": [
    "mask = df['AMT_GOODS_PRICE'].isna()\n",
    "df.loc[mask, 'AMT_GOODS_PRICE'] = df['AMT_GOODS_PRICE'].mean()\n",
    "df['AMT_GOODS_PRICE_ANOM'] = mask.astype('float32')"
   ]
  },
  {
   "cell_type": "code",
   "execution_count": 9,
   "metadata": {},
   "outputs": [],
   "source": [
    "mi_data = get_missing_col(df).index\n",
    "mi_data_cat = [x for x in mi_data if df[x].dtype == 'object']\n",
    "mi_data_num = [x for x in mi_data if x not in mi_data_cat]"
   ]
  },
  {
   "cell_type": "code",
   "execution_count": 10,
   "metadata": {},
   "outputs": [],
   "source": [
    "def multple_in(words, x):\n",
    "    for w in words:\n",
    "        if w in x:\n",
    "            return True\n",
    "    return False"
   ]
  },
  {
   "cell_type": "code",
   "execution_count": 11,
   "metadata": {},
   "outputs": [],
   "source": [
    "# extract numerical columns that are counts\n",
    "cnt_col_kw = [\n",
    "    'HOUR', 'CNT', 'BUREAU_DAY', 'BUREAU_YEAR',\n",
    "    'BUREAU_WEEK', 'BUREAU_QRT', 'BUREAU_MON',\n",
    "    'AGE'\n",
    "]\n",
    "cnt_col = [x for x in mi_data_num if multple_in(cnt_col_kw, x)]"
   ]
  },
  {
   "cell_type": "code",
   "execution_count": 12,
   "metadata": {},
   "outputs": [],
   "source": [
    "for c in mi_data_num:\n",
    "    mask = df[c].isna()\n",
    "    df.loc[mask, c] = df[c].mean()\n",
    "    df[c + 'ANOM'] = mask"
   ]
  },
  {
   "cell_type": "code",
   "execution_count": 13,
   "metadata": {},
   "outputs": [],
   "source": [
    "# round cnt_col to 1 decimal place\n",
    "df[cnt_col] = df[cnt_col].round(1)"
   ]
  },
  {
   "cell_type": "code",
   "execution_count": 14,
   "metadata": {},
   "outputs": [
    {
     "data": {
      "text/plain": [
       "FONDKAPREMONT_MODE     68.235393\n",
       "WALLSMATERIAL_MODE     50.591290\n",
       "HOUSETYPE_MODE         49.940632\n",
       "EMERGENCYSTATE_MODE    47.147128\n",
       "OCCUPATION_TYPE        31.437032\n",
       "NAME_TYPE_SUITE         0.618377\n",
       "dtype: float64"
      ]
     },
     "execution_count": 14,
     "metadata": {},
     "output_type": "execute_result"
    }
   ],
   "source": [
    "get_missing_col(df)"
   ]
  },
  {
   "cell_type": "code",
   "execution_count": 15,
   "metadata": {
    "scrolled": true
   },
   "outputs": [],
   "source": [
    "df['NEW_CREDIT_TO_ANNUITY_RATIO'] = df['AMT_CREDIT'] / df['AMT_ANNUITY']\n",
    "df['NEW_CREDIT_TO_GOODS_RATIO'] = df['AMT_CREDIT'] / df['AMT_GOODS_PRICE']\n",
    "df['NEW_DOC_IND_AVG'] = df[docs].mean(axis=1)\n",
    "df['NEW_DOC_IND_STD'] = df[docs].std(axis=1)\n",
    "df['NEW_DOC_IND_KURT'] = df[docs].kurtosis(axis=1)\n",
    "df['NEW_LIVE_IND_SUM'] = df[live].sum(axis=1)\n",
    "df['NEW_LIVE_IND_STD'] = df[live].std(axis=1)\n",
    "df['NEW_LIVE_IND_KURT'] = df[live].kurtosis(axis=1)\n",
    "df['NEW_INC_PER_CHLD'] = df['AMT_INCOME_TOTAL'] / (1 + df['CNT_CHILDREN'])\n",
    "df['NEW_INC_BY_ORG'] = df['ORGANIZATION_TYPE'].map(inc_by_org)\n",
    "df['NEW_EMPLOY_TO_BIRTH_RATIO'] = df['DAYS_EMPLOYED'] / df['DAYS_BIRTH']\n",
    "df['NEW_ANNUITY_TO_INCOME_RATIO'] = df['AMT_ANNUITY'] / (1 + df['AMT_INCOME_TOTAL'])\n",
    "df['NEW_SOURCES_PROD'] = df['EXT_SOURCE_1'] * df['EXT_SOURCE_2'] * df['EXT_SOURCE_3']\n",
    "df['NEW_EXT_SOURCES_MEAN'] = df[['EXT_SOURCE_1', 'EXT_SOURCE_2', 'EXT_SOURCE_3']].mean(axis=1)\n",
    "df['NEW_SCORES_STD'] = df[['EXT_SOURCE_1', 'EXT_SOURCE_2', 'EXT_SOURCE_3']].std(axis=1)\n",
    "df['NEW_SCORES_STD'] = df['NEW_SCORES_STD'].fillna(df['NEW_SCORES_STD'].mean())\n",
    "df['NEW_CAR_TO_BIRTH_RATIO'] = df['OWN_CAR_AGE'] / df['DAYS_BIRTH']\n",
    "df['NEW_CAR_TO_EMPLOY_RATIO'] = df['OWN_CAR_AGE'] / df['DAYS_EMPLOYED']\n",
    "df['NEW_PHONE_TO_BIRTH_RATIO'] = df['DAYS_LAST_PHONE_CHANGE'] / df['DAYS_BIRTH']\n",
    "df['NEW_PHONE_TO_EMPLOY_RATIO'] = df['DAYS_LAST_PHONE_CHANGE'] / df['DAYS_EMPLOYED']\n",
    "df['NEW_CREDIT_TO_INCOME_RATIO'] = df['AMT_CREDIT'] / df['AMT_INCOME_TOTAL']\n"
   ]
  },
  {
   "cell_type": "code",
   "execution_count": null,
   "metadata": {},
   "outputs": [],
   "source": [
    "for bin_feature in ['CODE_GENDER', 'FLAG_OWN_CAR', 'FLAG_OWN_REALTY']:\n",
    "    df[bin_feature], uniques = pd.factorize(df[bin_feature])\n",
    "\n",
    "mask = df['NEW_PHONE_TO_EMPLOY_RATIO'].isna()\n",
    "df.loc[mask, 'NEW_PHONE_TO_EMPLOY_RATIO'] = 0."
   ]
  },
  {
   "cell_type": "code",
   "execution_count": null,
   "metadata": {},
   "outputs": [],
   "source": [
    "df, _ = one_hot_encode(df)\n",
    "df.set_index('SK_ID_CURR', inplace=True)\n",
    "df.columns = ['APP_' + c for c in df.columns]\n",
    "bool_col = [c for c in df.columns if df[c].dtype == 'bool']\n",
    "df[bool_col] = df[bool_col].astype('int8')"
   ]
  },
  {
   "cell_type": "code",
   "execution_count": null,
   "metadata": {},
   "outputs": [],
   "source": [
    "meta_data.update(generate_meta(df, 'APP'))\n",
    "\n",
    "with open(get_file('c_app_meta'), 'w') as fp:\n",
    "    json.dump(meta_data, fp)\n",
    "    \n",
    "df.to_csv(get_file('c_app'))\n"
   ]
  },
  {
   "cell_type": "markdown",
   "metadata": {},
   "source": [
    "---"
   ]
  },
  {
   "cell_type": "markdown",
   "metadata": {},
   "source": [
    "# Merge"
   ]
  },
  {
   "cell_type": "code",
   "execution_count": 2,
   "metadata": {},
   "outputs": [],
   "source": [
    "with open(get_file('c_app_meta')) as fp:\n",
    "    meta_data = json.load(fp)\n",
    "    \n",
    "df = pd.read_csv(get_file('c_app'), index_col='SK_ID_CURR')"
   ]
  },
  {
   "cell_type": "code",
   "execution_count": 3,
   "metadata": {},
   "outputs": [],
   "source": [
    "merged_meta_data = {}"
   ]
  },
  {
   "cell_type": "code",
   "execution_count": 4,
   "metadata": {},
   "outputs": [
    {
     "data": {
      "text/plain": [
       "28"
      ]
     },
     "execution_count": 4,
     "metadata": {},
     "output_type": "execute_result"
    }
   ],
   "source": [
    "bu = pd.read_csv(get_file('c_bu'), index_col='SK_ID_CURR')\n",
    "df = df.join(bu, how='left')\n",
    "del bu\n",
    "gc.collect()"
   ]
  },
  {
   "cell_type": "code",
   "execution_count": 5,
   "metadata": {
    "scrolled": false
   },
   "outputs": [],
   "source": [
    "for c in get_missing_col(df).index:\n",
    "    mask = df[c].isna()\n",
    "    df.loc[mask, c] = 0.\n",
    "\n",
    "df['APP_BURO_NOT_AVAILABLE'] = mask.astype('int8')"
   ]
  },
  {
   "cell_type": "raw",
   "metadata": {},
   "source": []
  },
  {
   "cell_type": "code",
   "execution_count": 6,
   "metadata": {},
   "outputs": [
    {
     "data": {
      "text/plain": [
       "35"
      ]
     },
     "execution_count": 6,
     "metadata": {},
     "output_type": "execute_result"
    }
   ],
   "source": [
    "pre_app = pd.read_csv(get_file('c_pre_app'), index_col='PREV_SK_ID_CURR')\n",
    "pre_app = pre_app.drop('Unnamed: 0', axis=1)\n",
    "df = df.join(pre_app, how='left')\n",
    "del pre_app\n",
    "gc.collect()"
   ]
  },
  {
   "cell_type": "code",
   "execution_count": 7,
   "metadata": {},
   "outputs": [],
   "source": [
    "for c in get_missing_col(df).index:\n",
    "    mask = df[c].isna()\n",
    "    df.loc[mask, c] = 0.\n",
    "\n",
    "df['APP_PREV_APP_NOT_AVAILABLE'] = mask.astype('int8')"
   ]
  },
  {
   "cell_type": "raw",
   "metadata": {},
   "source": []
  },
  {
   "cell_type": "code",
   "execution_count": 8,
   "metadata": {},
   "outputs": [
    {
     "data": {
      "text/plain": [
       "35"
      ]
     },
     "execution_count": 8,
     "metadata": {},
     "output_type": "execute_result"
    }
   ],
   "source": [
    "pos = pd.read_csv(get_file('c_pc_bal'), index_col='SK_ID_CURR')\n",
    "df = df.join(pos, how='left')\n",
    "del pos\n",
    "gc.collect()"
   ]
  },
  {
   "cell_type": "code",
   "execution_count": 9,
   "metadata": {},
   "outputs": [],
   "source": [
    "for c in get_missing_col(df).index:\n",
    "    mask = df[c].isna()\n",
    "    df.loc[mask, c] = 0.\n",
    "\n",
    "df['APP_POS_CASH_NOT_AVAILABLE'] = mask.astype('int8')"
   ]
  },
  {
   "cell_type": "raw",
   "metadata": {},
   "source": []
  },
  {
   "cell_type": "code",
   "execution_count": 10,
   "metadata": {},
   "outputs": [
    {
     "data": {
      "text/plain": [
       "35"
      ]
     },
     "execution_count": 10,
     "metadata": {},
     "output_type": "execute_result"
    }
   ],
   "source": [
    "ins = pd.read_csv(get_file('c_ins_pay'), index_col='SK_ID_CURR')\n",
    "df = df.join(ins, how='left')\n",
    "del ins\n",
    "gc.collect()"
   ]
  },
  {
   "cell_type": "code",
   "execution_count": 11,
   "metadata": {},
   "outputs": [],
   "source": [
    "for c in get_missing_col(df).index:\n",
    "    mask = df[c].isna()\n",
    "    df.loc[mask, c] = 0.\n",
    "\n",
    "df['APP_INS_PAY_NOT_AVAILABLE'] = mask.astype('int8')"
   ]
  },
  {
   "cell_type": "raw",
   "metadata": {},
   "source": []
  },
  {
   "cell_type": "code",
   "execution_count": 12,
   "metadata": {},
   "outputs": [
    {
     "data": {
      "text/plain": [
       "21"
      ]
     },
     "execution_count": 12,
     "metadata": {},
     "output_type": "execute_result"
    }
   ],
   "source": [
    "cc = pd.read_csv(get_file('c_cc_bal'), index_col='SK_ID_CURR')\n",
    "df = df.join(cc, how='left')\n",
    "del cc\n",
    "gc.collect()"
   ]
  },
  {
   "cell_type": "code",
   "execution_count": 13,
   "metadata": {},
   "outputs": [],
   "source": [
    "for c in get_missing_col(df).index:\n",
    "    mask = df[c].isna()\n",
    "    df.loc[mask, c] = 0.\n",
    "\n",
    "df['APP_CC_NOT_AVAILABLE'] = mask.astype('int8')"
   ]
  },
  {
   "cell_type": "code",
   "execution_count": 14,
   "metadata": {},
   "outputs": [
    {
     "data": {
      "text/plain": [
       "(356255, 930)"
      ]
     },
     "execution_count": 14,
     "metadata": {},
     "output_type": "execute_result"
    }
   ],
   "source": [
    "df.shape"
   ]
  },
  {
   "cell_type": "raw",
   "metadata": {},
   "source": []
  },
  {
   "cell_type": "code",
   "execution_count": 15,
   "metadata": {},
   "outputs": [],
   "source": [
    "not_avl_col = [\n",
    "    'APP_BURO_NOT_AVAILABLE', 'APP_PREV_APP_NOT_AVAILABLE',\n",
    "    'APP_POS_CASH_NOT_AVAILABLE', 'APP_INS_PAY_NOT_AVAILABLE',\n",
    "    'APP_CC_NOT_AVAILABLE'\n",
    "]\n",
    "\n",
    "input_order = dict(enumerate(df.columns))"
   ]
  },
  {
   "cell_type": "code",
   "execution_count": 16,
   "metadata": {},
   "outputs": [],
   "source": [
    "merged_meta_data['not_avl_col'] = not_avl_col\n",
    "merged_meta_data['input_order'] = input_order\n",
    "\n",
    "merged_meta_data.update(meta_data)\n",
    "\n",
    "merged_meta_data['app_cols'] = merged_meta_data.pop('cols')\n",
    "merged_meta_data['app_dtype'] = merged_meta_data.pop('dtype')"
   ]
  },
  {
   "cell_type": "code",
   "execution_count": null,
   "metadata": {},
   "outputs": [],
   "source": []
  },
  {
   "cell_type": "code",
   "execution_count": 17,
   "metadata": {
    "scrolled": true
   },
   "outputs": [],
   "source": [
    "df.to_csv(get_file('merged'))\n",
    "df.loc[merged_meta_data['raw_test_id']].to_csv(get_file('merged_test'))"
   ]
  },
  {
   "cell_type": "code",
   "execution_count": 19,
   "metadata": {},
   "outputs": [
    {
     "data": {
      "text/plain": [
       "7"
      ]
     },
     "execution_count": 19,
     "metadata": {},
     "output_type": "execute_result"
    }
   ],
   "source": [
    "df = df.drop(merged_meta_data['raw_test_id'])\n",
    "gc.collect()"
   ]
  },
  {
   "cell_type": "code",
   "execution_count": 20,
   "metadata": {},
   "outputs": [],
   "source": [
    "class_1_ix = list(df[df['APP_TARGET'] == 1].index)\n",
    "class_0_ix = list(df[df['APP_TARGET'] == 0].index)"
   ]
  },
  {
   "cell_type": "code",
   "execution_count": 28,
   "metadata": {},
   "outputs": [],
   "source": [
    "def get_tet_ix(train_ratio, eval_ratio, size):\n",
    "    train_ix = (0, int(train_ratio*size))\n",
    "    eval_ix = (train_ix[1], int(train_ix[1] + eval_ratio*size))\n",
    "    return train_ix, eval_ix"
   ]
  },
  {
   "cell_type": "code",
   "execution_count": 29,
   "metadata": {},
   "outputs": [],
   "source": [
    "class_1_ix_shuf = np.random.permutation(class_1_ix)\n",
    "class_0_ix_shuf = np.random.permutation(class_0_ix)\n",
    "\n",
    "t_ix, ev_ix = get_tet_ix(.8, .1, len(class_1_ix))\n",
    "class_one = {\n",
    "    'train': class_1_ix_shuf[t_ix[0]: t_ix[1]].tolist(),\n",
    "    'eval': class_1_ix_shuf[ev_ix[0]: ev_ix[1]].tolist(),\n",
    "    'test': class_1_ix_shuf[ev_ix[1]: ].tolist(),\n",
    "}\n",
    "\n",
    "t_ix, ev_ix = get_tet_ix(.8, .1, len(class_0_ix))\n",
    "class_zero = {\n",
    "    'train': class_0_ix_shuf[t_ix[0]: t_ix[1]].tolist(),\n",
    "    'eval': class_0_ix_shuf[ev_ix[0]: ev_ix[1]].tolist(),\n",
    "    'test': class_0_ix_shuf[ev_ix[1]: ].tolist(),\n",
    "}"
   ]
  },
  {
   "cell_type": "code",
   "execution_count": 30,
   "metadata": {},
   "outputs": [],
   "source": [
    "model_dataset = {\n",
    "    'model_train': np.random.permutation(class_one['train'] +  class_zero['train']).tolist(),\n",
    "    'model_eval': np.random.permutation(class_one['eval'] +  class_zero['eval']).tolist(),\n",
    "    'model_test': np.random.permutation(class_one['test'] +  class_zero['test']).tolist(),\n",
    "}"
   ]
  },
  {
   "cell_type": "code",
   "execution_count": 31,
   "metadata": {},
   "outputs": [],
   "source": [
    "df.loc[model_dataset['model_train']].to_csv(get_file('model_train'))\n",
    "df.loc[model_dataset['model_eval']].to_csv(get_file('model_eval'))\n",
    "df.loc[model_dataset['model_test']].to_csv(get_file('model_test'))"
   ]
  },
  {
   "cell_type": "code",
   "execution_count": 32,
   "metadata": {},
   "outputs": [],
   "source": [
    "merged_meta_data.update(model_dataset)"
   ]
  },
  {
   "cell_type": "code",
   "execution_count": 33,
   "metadata": {},
   "outputs": [],
   "source": [
    "merged_meta_data['model_train_size'] = len(model_dataset['model_train'])\n",
    "merged_meta_data['model_eval_size'] = len(model_dataset['model_eval'])\n",
    "merged_meta_data['model_test_size'] = len(model_dataset['model_test'])\n",
    "\n",
    "merged_meta_data['model_train_class_one_size'] = len(class_one['train'])\n",
    "merged_meta_data['model_eval_class_one_size'] = len(class_one['eval'])\n",
    "merged_meta_data['model_test_class_one_size'] = len(class_one['test'])\n",
    "\n",
    "merged_meta_data['model_train_class_zero_size'] = len(class_zero['train'])\n",
    "merged_meta_data['model_eval_class_zero_size'] = len(class_zero['eval'])\n",
    "merged_meta_data['model_test_class_zero_size'] = len(class_zero['test'])\n",
    "\n",
    "merged_meta_data['class_one_ix'] = class_one\n",
    "merged_meta_data['class_zero_ix'] = class_zero"
   ]
  },
  {
   "cell_type": "code",
   "execution_count": 34,
   "metadata": {},
   "outputs": [],
   "source": [
    "with open(get_file('merged_meta'), 'w') as fp:\n",
    "    json.dump(merged_meta_data, fp)"
   ]
  },
  {
   "cell_type": "raw",
   "metadata": {},
   "source": []
  },
  {
   "cell_type": "code",
   "execution_count": 8,
   "metadata": {
    "scrolled": true
   },
   "outputs": [
    {
     "name": "stdout",
     "output_type": "stream",
     "text": [
      "APP_index\n",
      "APP_AMT_ANNUITY\n",
      "APP_AMT_CREDIT\n",
      "APP_AMT_GOODS_PRICE\n",
      "APP_AMT_INCOME_TOTAL\n",
      "APP_AMT_REQ_CREDIT_BUREAU_DAY\n",
      "APP_AMT_REQ_CREDIT_BUREAU_HOUR\n",
      "APP_AMT_REQ_CREDIT_BUREAU_MON\n",
      "APP_AMT_REQ_CREDIT_BUREAU_QRT\n",
      "APP_AMT_REQ_CREDIT_BUREAU_WEEK\n",
      "APP_AMT_REQ_CREDIT_BUREAU_YEAR\n",
      "APP_APARTMENTS_AVG\n",
      "APP_APARTMENTS_MEDI\n",
      "APP_APARTMENTS_MODE\n",
      "APP_BASEMENTAREA_AVG\n",
      "APP_BASEMENTAREA_MEDI\n",
      "APP_BASEMENTAREA_MODE\n",
      "APP_CNT_CHILDREN\n",
      "APP_CNT_FAM_MEMBERS\n",
      "APP_CODE_GENDER\n",
      "APP_COMMONAREA_AVG\n",
      "APP_COMMONAREA_MEDI\n",
      "APP_COMMONAREA_MODE\n",
      "APP_DAYS_BIRTH\n",
      "APP_DAYS_EMPLOYED\n",
      "APP_DAYS_ID_PUBLISH\n",
      "APP_DAYS_LAST_PHONE_CHANGE\n",
      "APP_DAYS_REGISTRATION\n",
      "APP_DEF_30_CNT_SOCIAL_CIRCLE\n",
      "APP_DEF_60_CNT_SOCIAL_CIRCLE\n",
      "APP_ELEVATORS_AVG\n",
      "APP_ELEVATORS_MEDI\n",
      "APP_ELEVATORS_MODE\n",
      "APP_ENTRANCES_AVG\n",
      "APP_ENTRANCES_MEDI\n",
      "APP_ENTRANCES_MODE\n",
      "APP_EXT_SOURCE_1\n",
      "APP_EXT_SOURCE_2\n",
      "APP_EXT_SOURCE_3\n",
      "APP_FLAG_CONT_MOBILE\n",
      "APP_FLAG_DOCUMENT_10\n",
      "APP_FLAG_DOCUMENT_11\n",
      "APP_FLAG_DOCUMENT_12\n",
      "APP_FLAG_DOCUMENT_13\n",
      "APP_FLAG_DOCUMENT_14\n",
      "APP_FLAG_DOCUMENT_15\n",
      "APP_FLAG_DOCUMENT_16\n",
      "APP_FLAG_DOCUMENT_17\n",
      "APP_FLAG_DOCUMENT_18\n",
      "APP_FLAG_DOCUMENT_19\n",
      "APP_FLAG_DOCUMENT_2\n",
      "APP_FLAG_DOCUMENT_20\n",
      "APP_FLAG_DOCUMENT_21\n",
      "APP_FLAG_DOCUMENT_3\n",
      "APP_FLAG_DOCUMENT_4\n",
      "APP_FLAG_DOCUMENT_5\n",
      "APP_FLAG_DOCUMENT_6\n",
      "APP_FLAG_DOCUMENT_7\n",
      "APP_FLAG_DOCUMENT_8\n",
      "APP_FLAG_DOCUMENT_9\n",
      "APP_FLAG_EMAIL\n",
      "APP_FLAG_EMP_PHONE\n",
      "APP_FLAG_MOBIL\n",
      "APP_FLAG_OWN_CAR\n",
      "APP_FLAG_OWN_REALTY\n",
      "APP_FLAG_PHONE\n",
      "APP_FLAG_WORK_PHONE\n",
      "APP_FLOORSMAX_AVG\n",
      "APP_FLOORSMAX_MEDI\n",
      "APP_FLOORSMAX_MODE\n",
      "APP_FLOORSMIN_AVG\n",
      "APP_FLOORSMIN_MEDI\n",
      "APP_FLOORSMIN_MODE\n",
      "APP_HOUR_APPR_PROCESS_START\n",
      "APP_LANDAREA_AVG\n",
      "APP_LANDAREA_MEDI\n",
      "APP_LANDAREA_MODE\n",
      "APP_LIVE_CITY_NOT_WORK_CITY\n",
      "APP_LIVE_REGION_NOT_WORK_REGION\n",
      "APP_LIVINGAPARTMENTS_AVG\n",
      "APP_LIVINGAPARTMENTS_MEDI\n",
      "APP_LIVINGAPARTMENTS_MODE\n",
      "APP_LIVINGAREA_AVG\n",
      "APP_LIVINGAREA_MEDI\n",
      "APP_LIVINGAREA_MODE\n",
      "APP_NONLIVINGAPARTMENTS_AVG\n",
      "APP_NONLIVINGAPARTMENTS_MEDI\n",
      "APP_NONLIVINGAPARTMENTS_MODE\n",
      "APP_NONLIVINGAREA_AVG\n",
      "APP_NONLIVINGAREA_MEDI\n",
      "APP_NONLIVINGAREA_MODE\n",
      "APP_OBS_30_CNT_SOCIAL_CIRCLE\n",
      "APP_OBS_60_CNT_SOCIAL_CIRCLE\n",
      "APP_OWN_CAR_AGE\n",
      "APP_REGION_POPULATION_RELATIVE\n",
      "APP_REGION_RATING_CLIENT\n",
      "APP_REGION_RATING_CLIENT_W_CITY\n",
      "APP_REG_CITY_NOT_LIVE_CITY\n",
      "APP_REG_CITY_NOT_WORK_CITY\n",
      "APP_REG_REGION_NOT_LIVE_REGION\n",
      "APP_REG_REGION_NOT_WORK_REGION\n",
      "APP_TARGET\n",
      "APP_TOTALAREA_MODE\n",
      "APP_YEARS_BEGINEXPLUATATION_AVG\n",
      "APP_YEARS_BEGINEXPLUATATION_MEDI\n",
      "APP_YEARS_BEGINEXPLUATATION_MODE\n",
      "APP_YEARS_BUILD_AVG\n",
      "APP_YEARS_BUILD_MEDI\n",
      "APP_YEARS_BUILD_MODE\n",
      "APP_AMT_GOODS_PRICE_ANOM\n",
      "APP_COMMONAREA_AVGANOM\n",
      "APP_COMMONAREA_MEDIANOM\n",
      "APP_COMMONAREA_MODEANOM\n",
      "APP_NONLIVINGAPARTMENTS_MODEANOM\n",
      "APP_NONLIVINGAPARTMENTS_AVGANOM\n",
      "APP_NONLIVINGAPARTMENTS_MEDIANOM\n",
      "APP_LIVINGAPARTMENTS_AVGANOM\n",
      "APP_LIVINGAPARTMENTS_MEDIANOM\n",
      "APP_LIVINGAPARTMENTS_MODEANOM\n",
      "APP_FLOORSMIN_AVGANOM\n",
      "APP_FLOORSMIN_MEDIANOM\n",
      "APP_FLOORSMIN_MODEANOM\n",
      "APP_YEARS_BUILD_MEDIANOM\n",
      "APP_YEARS_BUILD_MODEANOM\n",
      "APP_YEARS_BUILD_AVGANOM\n",
      "APP_OWN_CAR_AGEANOM\n",
      "APP_LANDAREA_AVGANOM\n",
      "APP_LANDAREA_MEDIANOM\n",
      "APP_LANDAREA_MODEANOM\n",
      "APP_BASEMENTAREA_AVGANOM\n",
      "APP_BASEMENTAREA_MEDIANOM\n",
      "APP_BASEMENTAREA_MODEANOM\n",
      "APP_NONLIVINGAREA_MEDIANOM\n",
      "APP_NONLIVINGAREA_AVGANOM\n",
      "APP_NONLIVINGAREA_MODEANOM\n",
      "APP_EXT_SOURCE_1ANOM\n",
      "APP_ELEVATORS_AVGANOM\n",
      "APP_ELEVATORS_MEDIANOM\n",
      "APP_ELEVATORS_MODEANOM\n",
      "APP_APARTMENTS_MODEANOM\n",
      "APP_APARTMENTS_MEDIANOM\n",
      "APP_APARTMENTS_AVGANOM\n",
      "APP_ENTRANCES_AVGANOM\n",
      "APP_ENTRANCES_MODEANOM\n",
      "APP_ENTRANCES_MEDIANOM\n",
      "APP_LIVINGAREA_MODEANOM\n",
      "APP_LIVINGAREA_MEDIANOM\n",
      "APP_LIVINGAREA_AVGANOM\n",
      "APP_FLOORSMAX_AVGANOM\n",
      "APP_FLOORSMAX_MEDIANOM\n",
      "APP_FLOORSMAX_MODEANOM\n",
      "APP_YEARS_BEGINEXPLUATATION_MEDIANOM\n",
      "APP_YEARS_BEGINEXPLUATATION_AVGANOM\n",
      "APP_YEARS_BEGINEXPLUATATION_MODEANOM\n",
      "APP_TOTALAREA_MODEANOM\n",
      "APP_EXT_SOURCE_3ANOM\n",
      "APP_TARGETANOM\n",
      "APP_AMT_REQ_CREDIT_BUREAU_YEARANOM\n",
      "APP_AMT_REQ_CREDIT_BUREAU_WEEKANOM\n",
      "APP_AMT_REQ_CREDIT_BUREAU_QRTANOM\n",
      "APP_AMT_REQ_CREDIT_BUREAU_MONANOM\n",
      "APP_AMT_REQ_CREDIT_BUREAU_HOURANOM\n",
      "APP_AMT_REQ_CREDIT_BUREAU_DAYANOM\n",
      "APP_OBS_60_CNT_SOCIAL_CIRCLEANOM\n",
      "APP_DEF_30_CNT_SOCIAL_CIRCLEANOM\n",
      "APP_DEF_60_CNT_SOCIAL_CIRCLEANOM\n",
      "APP_OBS_30_CNT_SOCIAL_CIRCLEANOM\n",
      "APP_EXT_SOURCE_2ANOM\n",
      "APP_AMT_ANNUITYANOM\n",
      "APP_CNT_FAM_MEMBERSANOM\n",
      "APP_DAYS_LAST_PHONE_CHANGEANOM\n",
      "APP_NEW_CREDIT_TO_ANNUITY_RATIO\n",
      "APP_NEW_CREDIT_TO_GOODS_RATIO\n",
      "APP_NEW_DOC_IND_AVG\n",
      "APP_NEW_DOC_IND_STD\n",
      "APP_NEW_DOC_IND_KURT\n",
      "APP_NEW_LIVE_IND_SUM\n",
      "APP_NEW_LIVE_IND_STD\n",
      "APP_NEW_LIVE_IND_KURT\n",
      "APP_NEW_INC_PER_CHLD\n",
      "APP_NEW_INC_BY_ORG\n",
      "APP_NEW_EMPLOY_TO_BIRTH_RATIO\n",
      "APP_NEW_ANNUITY_TO_INCOME_RATIO\n",
      "APP_NEW_SOURCES_PROD\n",
      "APP_NEW_EXT_SOURCES_MEAN\n",
      "APP_NEW_SCORES_STD\n",
      "APP_NEW_CAR_TO_BIRTH_RATIO\n",
      "APP_NEW_CAR_TO_EMPLOY_RATIO\n",
      "APP_NEW_PHONE_TO_BIRTH_RATIO\n",
      "APP_NEW_PHONE_TO_EMPLOY_RATIO\n",
      "APP_NEW_CREDIT_TO_INCOME_RATIO\n",
      "APP_EMERGENCYSTATE_MODE_No\n",
      "APP_EMERGENCYSTATE_MODE_Yes\n",
      "APP_EMERGENCYSTATE_MODE_nan\n",
      "APP_FONDKAPREMONT_MODE_not specified\n",
      "APP_FONDKAPREMONT_MODE_org spec account\n",
      "APP_FONDKAPREMONT_MODE_reg oper account\n",
      "APP_FONDKAPREMONT_MODE_reg oper spec account\n",
      "APP_FONDKAPREMONT_MODE_nan\n",
      "APP_HOUSETYPE_MODE_block of flats\n",
      "APP_HOUSETYPE_MODE_specific housing\n",
      "APP_HOUSETYPE_MODE_terraced house\n",
      "APP_HOUSETYPE_MODE_nan\n",
      "APP_NAME_CONTRACT_TYPE_Cash loans\n",
      "APP_NAME_CONTRACT_TYPE_Revolving loans\n",
      "APP_NAME_CONTRACT_TYPE_nan\n",
      "APP_NAME_EDUCATION_TYPE_Academic degree\n",
      "APP_NAME_EDUCATION_TYPE_Higher education\n",
      "APP_NAME_EDUCATION_TYPE_Incomplete higher\n",
      "APP_NAME_EDUCATION_TYPE_Lower secondary\n",
      "APP_NAME_EDUCATION_TYPE_Secondary / secondary special\n",
      "APP_NAME_EDUCATION_TYPE_nan\n",
      "APP_NAME_FAMILY_STATUS_Civil marriage\n",
      "APP_NAME_FAMILY_STATUS_Married\n",
      "APP_NAME_FAMILY_STATUS_Separated\n",
      "APP_NAME_FAMILY_STATUS_Single / not married\n",
      "APP_NAME_FAMILY_STATUS_Unknown\n",
      "APP_NAME_FAMILY_STATUS_Widow\n",
      "APP_NAME_FAMILY_STATUS_nan\n",
      "APP_NAME_HOUSING_TYPE_Co-op apartment\n",
      "APP_NAME_HOUSING_TYPE_House / apartment\n",
      "APP_NAME_HOUSING_TYPE_Municipal apartment\n",
      "APP_NAME_HOUSING_TYPE_Office apartment\n",
      "APP_NAME_HOUSING_TYPE_Rented apartment\n",
      "APP_NAME_HOUSING_TYPE_With parents\n",
      "APP_NAME_HOUSING_TYPE_nan\n",
      "APP_NAME_INCOME_TYPE_Businessman\n",
      "APP_NAME_INCOME_TYPE_Commercial associate\n",
      "APP_NAME_INCOME_TYPE_Maternity leave\n",
      "APP_NAME_INCOME_TYPE_Pensioner\n",
      "APP_NAME_INCOME_TYPE_State servant\n",
      "APP_NAME_INCOME_TYPE_Student\n",
      "APP_NAME_INCOME_TYPE_Unemployed\n",
      "APP_NAME_INCOME_TYPE_Working\n",
      "APP_NAME_INCOME_TYPE_nan\n",
      "APP_NAME_TYPE_SUITE_Children\n",
      "APP_NAME_TYPE_SUITE_Family\n",
      "APP_NAME_TYPE_SUITE_Group of people\n",
      "APP_NAME_TYPE_SUITE_Other_A\n",
      "APP_NAME_TYPE_SUITE_Other_B\n",
      "APP_NAME_TYPE_SUITE_Spouse, partner\n",
      "APP_NAME_TYPE_SUITE_Unaccompanied\n",
      "APP_NAME_TYPE_SUITE_nan\n",
      "APP_OCCUPATION_TYPE_Accountants\n",
      "APP_OCCUPATION_TYPE_Cleaning staff\n",
      "APP_OCCUPATION_TYPE_Cooking staff\n",
      "APP_OCCUPATION_TYPE_Core staff\n",
      "APP_OCCUPATION_TYPE_Drivers\n",
      "APP_OCCUPATION_TYPE_HR staff\n",
      "APP_OCCUPATION_TYPE_High skill tech staff\n",
      "APP_OCCUPATION_TYPE_IT staff\n",
      "APP_OCCUPATION_TYPE_Laborers\n",
      "APP_OCCUPATION_TYPE_Low-skill Laborers\n",
      "APP_OCCUPATION_TYPE_Managers\n",
      "APP_OCCUPATION_TYPE_Medicine staff\n",
      "APP_OCCUPATION_TYPE_Private service staff\n",
      "APP_OCCUPATION_TYPE_Realty agents\n",
      "APP_OCCUPATION_TYPE_Sales staff\n",
      "APP_OCCUPATION_TYPE_Secretaries\n",
      "APP_OCCUPATION_TYPE_Security staff\n",
      "APP_OCCUPATION_TYPE_Waiters/barmen staff\n",
      "APP_OCCUPATION_TYPE_nan\n",
      "APP_ORGANIZATION_TYPE_Advertising\n",
      "APP_ORGANIZATION_TYPE_Agriculture\n",
      "APP_ORGANIZATION_TYPE_Bank\n",
      "APP_ORGANIZATION_TYPE_Business Entity Type 1\n",
      "APP_ORGANIZATION_TYPE_Business Entity Type 2\n",
      "APP_ORGANIZATION_TYPE_Business Entity Type 3\n",
      "APP_ORGANIZATION_TYPE_Cleaning\n",
      "APP_ORGANIZATION_TYPE_Construction\n",
      "APP_ORGANIZATION_TYPE_Culture\n",
      "APP_ORGANIZATION_TYPE_Electricity\n",
      "APP_ORGANIZATION_TYPE_Emergency\n",
      "APP_ORGANIZATION_TYPE_Government\n",
      "APP_ORGANIZATION_TYPE_Hotel\n",
      "APP_ORGANIZATION_TYPE_Housing\n",
      "APP_ORGANIZATION_TYPE_Industry: type 1\n",
      "APP_ORGANIZATION_TYPE_Industry: type 10\n",
      "APP_ORGANIZATION_TYPE_Industry: type 11\n",
      "APP_ORGANIZATION_TYPE_Industry: type 12\n",
      "APP_ORGANIZATION_TYPE_Industry: type 13\n",
      "APP_ORGANIZATION_TYPE_Industry: type 2\n",
      "APP_ORGANIZATION_TYPE_Industry: type 3\n",
      "APP_ORGANIZATION_TYPE_Industry: type 4\n",
      "APP_ORGANIZATION_TYPE_Industry: type 5\n",
      "APP_ORGANIZATION_TYPE_Industry: type 6\n",
      "APP_ORGANIZATION_TYPE_Industry: type 7\n",
      "APP_ORGANIZATION_TYPE_Industry: type 8\n",
      "APP_ORGANIZATION_TYPE_Industry: type 9\n",
      "APP_ORGANIZATION_TYPE_Insurance\n",
      "APP_ORGANIZATION_TYPE_Kindergarten\n",
      "APP_ORGANIZATION_TYPE_Legal Services\n",
      "APP_ORGANIZATION_TYPE_Medicine\n",
      "APP_ORGANIZATION_TYPE_Military\n",
      "APP_ORGANIZATION_TYPE_Mobile\n",
      "APP_ORGANIZATION_TYPE_Other\n",
      "APP_ORGANIZATION_TYPE_Police\n",
      "APP_ORGANIZATION_TYPE_Postal\n",
      "APP_ORGANIZATION_TYPE_Realtor\n",
      "APP_ORGANIZATION_TYPE_Religion\n",
      "APP_ORGANIZATION_TYPE_Restaurant\n",
      "APP_ORGANIZATION_TYPE_School\n"
     ]
    },
    {
     "name": "stdout",
     "output_type": "stream",
     "text": [
      "APP_ORGANIZATION_TYPE_Security\n",
      "APP_ORGANIZATION_TYPE_Security Ministries\n",
      "APP_ORGANIZATION_TYPE_Self-employed\n",
      "APP_ORGANIZATION_TYPE_Services\n",
      "APP_ORGANIZATION_TYPE_Telecom\n",
      "APP_ORGANIZATION_TYPE_Trade: type 1\n",
      "APP_ORGANIZATION_TYPE_Trade: type 2\n",
      "APP_ORGANIZATION_TYPE_Trade: type 3\n",
      "APP_ORGANIZATION_TYPE_Trade: type 4\n",
      "APP_ORGANIZATION_TYPE_Trade: type 5\n",
      "APP_ORGANIZATION_TYPE_Trade: type 6\n",
      "APP_ORGANIZATION_TYPE_Trade: type 7\n",
      "APP_ORGANIZATION_TYPE_Transport: type 1\n",
      "APP_ORGANIZATION_TYPE_Transport: type 2\n",
      "APP_ORGANIZATION_TYPE_Transport: type 3\n",
      "APP_ORGANIZATION_TYPE_Transport: type 4\n",
      "APP_ORGANIZATION_TYPE_University\n",
      "APP_ORGANIZATION_TYPE_XNA\n",
      "APP_ORGANIZATION_TYPE_nan\n",
      "APP_WALLSMATERIAL_MODE_Block\n",
      "APP_WALLSMATERIAL_MODE_Mixed\n",
      "APP_WALLSMATERIAL_MODE_Monolithic\n",
      "APP_WALLSMATERIAL_MODE_Others\n",
      "APP_WALLSMATERIAL_MODE_Panel\n",
      "APP_WALLSMATERIAL_MODE_Stone, brick\n",
      "APP_WALLSMATERIAL_MODE_Wooden\n",
      "APP_WALLSMATERIAL_MODE_nan\n",
      "APP_WEEKDAY_APPR_PROCESS_START_FRIDAY\n",
      "APP_WEEKDAY_APPR_PROCESS_START_MONDAY\n",
      "APP_WEEKDAY_APPR_PROCESS_START_SATURDAY\n",
      "APP_WEEKDAY_APPR_PROCESS_START_SUNDAY\n",
      "APP_WEEKDAY_APPR_PROCESS_START_THURSDAY\n",
      "APP_WEEKDAY_APPR_PROCESS_START_TUESDAY\n",
      "APP_WEEKDAY_APPR_PROCESS_START_WEDNESDAY\n",
      "APP_WEEKDAY_APPR_PROCESS_START_nan\n",
      "BURO_DAYS_CREDIT_MIN\n",
      "BURO_DAYS_CREDIT_MAX\n",
      "BURO_DAYS_CREDIT_MEAN\n",
      "BURO_DAYS_CREDIT_VAR\n",
      "BURO_DAYS_CREDIT_ENDDATE_MIN\n",
      "BURO_DAYS_CREDIT_ENDDATE_MAX\n",
      "BURO_DAYS_CREDIT_ENDDATE_MEAN\n",
      "BURO_DAYS_CREDIT_UPDATE_MEAN\n",
      "BURO_CREDIT_DAY_OVERDUE_MAX\n",
      "BURO_CREDIT_DAY_OVERDUE_MEAN\n",
      "BURO_AMT_CREDIT_MAX_OVERDUE_MEAN\n",
      "BURO_AMT_CREDIT_SUM_MAX\n",
      "BURO_AMT_CREDIT_SUM_MEAN\n",
      "BURO_AMT_CREDIT_SUM_SUM\n",
      "BURO_AMT_CREDIT_SUM_DEBT_MAX\n",
      "BURO_AMT_CREDIT_SUM_DEBT_MEAN\n",
      "BURO_AMT_CREDIT_SUM_DEBT_SUM\n",
      "BURO_AMT_CREDIT_SUM_OVERDUE_MEAN\n",
      "BURO_AMT_CREDIT_SUM_LIMIT_MEAN\n",
      "BURO_AMT_CREDIT_SUM_LIMIT_SUM\n",
      "BURO_AMT_ANNUITY_MAX\n",
      "BURO_AMT_ANNUITY_MEAN\n",
      "BURO_CNT_CREDIT_PROLONG_SUM\n",
      "BURO_MONTHS_BALANCE_MIN_MIN\n",
      "BURO_MONTHS_BALANCE_MAX_MAX\n",
      "BURO_MONTHS_BALANCE_SIZE_MEAN\n",
      "BURO_MONTHS_BALANCE_SIZE_SUM\n",
      "BURO_CREDIT_ACTIVE_Active_MEAN\n",
      "BURO_CREDIT_ACTIVE_Bad debt_MEAN\n",
      "BURO_CREDIT_ACTIVE_Closed_MEAN\n",
      "BURO_CREDIT_ACTIVE_Sold_MEAN\n",
      "BURO_CREDIT_ACTIVE_nan_MEAN\n",
      "BURO_CREDIT_CURRENCY_currency 1_MEAN\n",
      "BURO_CREDIT_CURRENCY_currency 2_MEAN\n",
      "BURO_CREDIT_CURRENCY_currency 3_MEAN\n",
      "BURO_CREDIT_CURRENCY_currency 4_MEAN\n",
      "BURO_CREDIT_CURRENCY_nan_MEAN\n",
      "BURO_CREDIT_TYPE_Another type of loan_MEAN\n",
      "BURO_CREDIT_TYPE_Car loan_MEAN\n",
      "BURO_CREDIT_TYPE_Cash loan (non-earmarked)_MEAN\n",
      "BURO_CREDIT_TYPE_Consumer credit_MEAN\n",
      "BURO_CREDIT_TYPE_Credit card_MEAN\n",
      "BURO_CREDIT_TYPE_Interbank credit_MEAN\n",
      "BURO_CREDIT_TYPE_Loan for business development_MEAN\n",
      "BURO_CREDIT_TYPE_Loan for purchase of shares (margin lending)_MEAN\n",
      "BURO_CREDIT_TYPE_Loan for the purchase of equipment_MEAN\n",
      "BURO_CREDIT_TYPE_Loan for working capital replenishment_MEAN\n",
      "BURO_CREDIT_TYPE_Microloan_MEAN\n",
      "BURO_CREDIT_TYPE_Mobile operator loan_MEAN\n",
      "BURO_CREDIT_TYPE_Mortgage_MEAN\n",
      "BURO_CREDIT_TYPE_Real estate loan_MEAN\n",
      "BURO_CREDIT_TYPE_Unknown type of loan_MEAN\n",
      "BURO_CREDIT_TYPE_nan_MEAN\n",
      "BURO_STATUS_0_MEAN_MEAN\n",
      "BURO_STATUS_1_MEAN_MEAN\n",
      "BURO_STATUS_2_MEAN_MEAN\n",
      "BURO_STATUS_3_MEAN_MEAN\n",
      "BURO_STATUS_4_MEAN_MEAN\n",
      "BURO_STATUS_5_MEAN_MEAN\n",
      "BURO_STATUS_C_MEAN_MEAN\n",
      "BURO_STATUS_X_MEAN_MEAN\n",
      "BURO_STATUS_nan_MEAN_MEAN\n",
      "BURO_MISSING_BALANCE\n",
      "BURO_AMT_ANNUITY_ANOM\n",
      "BURO_AMT_CREDIT_MAX_OVERDUE_ANOM\n",
      "BURO_DAYS_CREDIT_ANOM\n",
      "BURO_AMT_CREDIT_SUM_LIMIT_ANOM\n",
      "BURO_AMT_CREDIT_SUM_DEBT_ANOM\n",
      "BURO_DAYS_CREDIT_ENDDATE_ANOM\n",
      "BURO_AMT_CREDIT_SUM_ANOM\n",
      "BURO_ACTIVE_DAYS_CREDIT_MIN\n",
      "BURO_ACTIVE_DAYS_CREDIT_MAX\n",
      "BURO_ACTIVE_DAYS_CREDIT_MEAN\n",
      "BURO_ACTIVE_DAYS_CREDIT_VAR\n",
      "BURO_ACTIVE_DAYS_CREDIT_ENDDATE_MIN\n",
      "BURO_ACTIVE_DAYS_CREDIT_ENDDATE_MAX\n",
      "BURO_ACTIVE_DAYS_CREDIT_ENDDATE_MEAN\n",
      "BURO_ACTIVE_DAYS_CREDIT_UPDATE_MEAN\n",
      "BURO_ACTIVE_CREDIT_DAY_OVERDUE_MAX\n",
      "BURO_ACTIVE_CREDIT_DAY_OVERDUE_MEAN\n",
      "BURO_ACTIVE_AMT_CREDIT_MAX_OVERDUE_MEAN\n",
      "BURO_ACTIVE_AMT_CREDIT_SUM_MAX\n",
      "BURO_ACTIVE_AMT_CREDIT_SUM_MEAN\n",
      "BURO_ACTIVE_AMT_CREDIT_SUM_SUM\n",
      "BURO_ACTIVE_AMT_CREDIT_SUM_DEBT_MAX\n",
      "BURO_ACTIVE_AMT_CREDIT_SUM_DEBT_MEAN\n",
      "BURO_ACTIVE_AMT_CREDIT_SUM_DEBT_SUM\n",
      "BURO_ACTIVE_AMT_CREDIT_SUM_OVERDUE_MEAN\n",
      "BURO_ACTIVE_AMT_CREDIT_SUM_LIMIT_MEAN\n",
      "BURO_ACTIVE_AMT_CREDIT_SUM_LIMIT_SUM\n",
      "BURO_ACTIVE_AMT_ANNUITY_MAX\n",
      "BURO_ACTIVE_AMT_ANNUITY_MEAN\n",
      "BURO_ACTIVE_CNT_CREDIT_PROLONG_SUM\n",
      "BURO_ACTIVE_MONTHS_BALANCE_MIN_MIN\n",
      "BURO_ACTIVE_MONTHS_BALANCE_MAX_MAX\n",
      "BURO_ACTIVE_MONTHS_BALANCE_SIZE_MEAN\n",
      "BURO_ACTIVE_MONTHS_BALANCE_SIZE_SUM\n",
      "BURO_CLOSED_DAYS_CREDIT_MIN\n",
      "BURO_CLOSED_DAYS_CREDIT_MAX\n",
      "BURO_CLOSED_DAYS_CREDIT_MEAN\n",
      "BURO_CLOSED_DAYS_CREDIT_VAR\n",
      "BURO_CLOSED_DAYS_CREDIT_ENDDATE_MIN\n",
      "BURO_CLOSED_DAYS_CREDIT_ENDDATE_MAX\n",
      "BURO_CLOSED_DAYS_CREDIT_ENDDATE_MEAN\n",
      "BURO_CLOSED_DAYS_CREDIT_UPDATE_MEAN\n",
      "BURO_CLOSED_CREDIT_DAY_OVERDUE_MAX\n",
      "BURO_CLOSED_CREDIT_DAY_OVERDUE_MEAN\n",
      "BURO_CLOSED_AMT_CREDIT_MAX_OVERDUE_MEAN\n",
      "BURO_CLOSED_AMT_CREDIT_SUM_MAX\n",
      "BURO_CLOSED_AMT_CREDIT_SUM_MEAN\n",
      "BURO_CLOSED_AMT_CREDIT_SUM_SUM\n",
      "BURO_CLOSED_AMT_CREDIT_SUM_DEBT_MAX\n",
      "BURO_CLOSED_AMT_CREDIT_SUM_DEBT_MEAN\n",
      "BURO_CLOSED_AMT_CREDIT_SUM_DEBT_SUM\n",
      "BURO_CLOSED_AMT_CREDIT_SUM_OVERDUE_MEAN\n",
      "BURO_CLOSED_AMT_CREDIT_SUM_LIMIT_MEAN\n",
      "BURO_CLOSED_AMT_CREDIT_SUM_LIMIT_SUM\n",
      "BURO_CLOSED_AMT_ANNUITY_MAX\n",
      "BURO_CLOSED_AMT_ANNUITY_MEAN\n",
      "BURO_CLOSED_CNT_CREDIT_PROLONG_SUM\n",
      "BURO_CLOSED_MONTHS_BALANCE_MIN_MIN\n",
      "BURO_CLOSED_MONTHS_BALANCE_MAX_MAX\n",
      "BURO_CLOSED_MONTHS_BALANCE_SIZE_MEAN\n",
      "BURO_CLOSED_MONTHS_BALANCE_SIZE_SUM\n",
      "APP_BURO_NOT_AVAILABLE\n",
      "PREV_NAME_CONTRACT_TYPE_Cash loans_MEAN\n",
      "PREV_NAME_CONTRACT_TYPE_Consumer loans_MEAN\n",
      "PREV_NAME_CONTRACT_TYPE_Revolving loans_MEAN\n",
      "PREV_NAME_CONTRACT_TYPE_XNA_MEAN\n",
      "PREV_NAME_CONTRACT_TYPE_nan_MEAN\n",
      "PREV_WEEKDAY_APPR_PROCESS_START_FRIDAY_MEAN\n",
      "PREV_WEEKDAY_APPR_PROCESS_START_MONDAY_MEAN\n",
      "PREV_WEEKDAY_APPR_PROCESS_START_SATURDAY_MEAN\n",
      "PREV_WEEKDAY_APPR_PROCESS_START_SUNDAY_MEAN\n",
      "PREV_WEEKDAY_APPR_PROCESS_START_THURSDAY_MEAN\n",
      "PREV_WEEKDAY_APPR_PROCESS_START_TUESDAY_MEAN\n",
      "PREV_WEEKDAY_APPR_PROCESS_START_WEDNESDAY_MEAN\n",
      "PREV_WEEKDAY_APPR_PROCESS_START_nan_MEAN\n",
      "PREV_FLAG_LAST_APPL_PER_CONTRACT_N_MEAN\n",
      "PREV_FLAG_LAST_APPL_PER_CONTRACT_Y_MEAN\n",
      "PREV_FLAG_LAST_APPL_PER_CONTRACT_nan_MEAN\n",
      "PREV_NAME_CASH_LOAN_PURPOSE_Building a house or an annex_MEAN\n",
      "PREV_NAME_CASH_LOAN_PURPOSE_Business development_MEAN\n",
      "PREV_NAME_CASH_LOAN_PURPOSE_Buying a garage_MEAN\n",
      "PREV_NAME_CASH_LOAN_PURPOSE_Buying a holiday home / land_MEAN\n",
      "PREV_NAME_CASH_LOAN_PURPOSE_Buying a home_MEAN\n",
      "PREV_NAME_CASH_LOAN_PURPOSE_Buying a new car_MEAN\n",
      "PREV_NAME_CASH_LOAN_PURPOSE_Buying a used car_MEAN\n",
      "PREV_NAME_CASH_LOAN_PURPOSE_Car repairs_MEAN\n",
      "PREV_NAME_CASH_LOAN_PURPOSE_Education_MEAN\n",
      "PREV_NAME_CASH_LOAN_PURPOSE_Everyday expenses_MEAN\n",
      "PREV_NAME_CASH_LOAN_PURPOSE_Furniture_MEAN\n",
      "PREV_NAME_CASH_LOAN_PURPOSE_Gasification / water supply_MEAN\n",
      "PREV_NAME_CASH_LOAN_PURPOSE_Hobby_MEAN\n",
      "PREV_NAME_CASH_LOAN_PURPOSE_Journey_MEAN\n",
      "PREV_NAME_CASH_LOAN_PURPOSE_Medicine_MEAN\n",
      "PREV_NAME_CASH_LOAN_PURPOSE_Money for a third person_MEAN\n",
      "PREV_NAME_CASH_LOAN_PURPOSE_Other_MEAN\n",
      "PREV_NAME_CASH_LOAN_PURPOSE_Payments on other loans_MEAN\n",
      "PREV_NAME_CASH_LOAN_PURPOSE_Purchase of electronic equipment_MEAN\n",
      "PREV_NAME_CASH_LOAN_PURPOSE_Refusal to name the goal_MEAN\n",
      "PREV_NAME_CASH_LOAN_PURPOSE_Repairs_MEAN\n",
      "PREV_NAME_CASH_LOAN_PURPOSE_Urgent needs_MEAN\n",
      "PREV_NAME_CASH_LOAN_PURPOSE_Wedding / gift / holiday_MEAN\n",
      "PREV_NAME_CASH_LOAN_PURPOSE_XAP_MEAN\n",
      "PREV_NAME_CASH_LOAN_PURPOSE_XNA_MEAN\n",
      "PREV_NAME_CASH_LOAN_PURPOSE_nan_MEAN\n",
      "PREV_NAME_CONTRACT_STATUS_Approved_MEAN\n",
      "PREV_NAME_CONTRACT_STATUS_Canceled_MEAN\n",
      "PREV_NAME_CONTRACT_STATUS_Refused_MEAN\n",
      "PREV_NAME_CONTRACT_STATUS_Unused offer_MEAN\n",
      "PREV_NAME_CONTRACT_STATUS_nan_MEAN\n",
      "PREV_NAME_PAYMENT_TYPE_Cash through the bank_MEAN\n",
      "PREV_NAME_PAYMENT_TYPE_Cashless from the account of the employer_MEAN\n",
      "PREV_NAME_PAYMENT_TYPE_Non-cash from your account_MEAN\n",
      "PREV_NAME_PAYMENT_TYPE_XNA_MEAN\n",
      "PREV_NAME_PAYMENT_TYPE_nan_MEAN\n",
      "PREV_CODE_REJECT_REASON_CLIENT_MEAN\n",
      "PREV_CODE_REJECT_REASON_HC_MEAN\n",
      "PREV_CODE_REJECT_REASON_LIMIT_MEAN\n",
      "PREV_CODE_REJECT_REASON_SCO_MEAN\n",
      "PREV_CODE_REJECT_REASON_SCOFR_MEAN\n",
      "PREV_CODE_REJECT_REASON_SYSTEM_MEAN\n",
      "PREV_CODE_REJECT_REASON_VERIF_MEAN\n",
      "PREV_CODE_REJECT_REASON_XAP_MEAN\n",
      "PREV_CODE_REJECT_REASON_XNA_MEAN\n",
      "PREV_CODE_REJECT_REASON_nan_MEAN\n",
      "PREV_NAME_TYPE_SUITE_Children_MEAN\n",
      "PREV_NAME_TYPE_SUITE_Family_MEAN\n",
      "PREV_NAME_TYPE_SUITE_Group of people_MEAN\n",
      "PREV_NAME_TYPE_SUITE_Other_A_MEAN\n",
      "PREV_NAME_TYPE_SUITE_Other_B_MEAN\n",
      "PREV_NAME_TYPE_SUITE_Spouse, partner_MEAN\n",
      "PREV_NAME_TYPE_SUITE_Unaccompanied_MEAN\n",
      "PREV_NAME_TYPE_SUITE_nan_MEAN\n",
      "PREV_NAME_CLIENT_TYPE_New_MEAN\n",
      "PREV_NAME_CLIENT_TYPE_Refreshed_MEAN\n",
      "PREV_NAME_CLIENT_TYPE_Repeater_MEAN\n",
      "PREV_NAME_CLIENT_TYPE_XNA_MEAN\n",
      "PREV_NAME_CLIENT_TYPE_nan_MEAN\n",
      "PREV_NAME_GOODS_CATEGORY_Additional Service_MEAN\n",
      "PREV_NAME_GOODS_CATEGORY_Animals_MEAN\n",
      "PREV_NAME_GOODS_CATEGORY_Audio/Video_MEAN\n"
     ]
    },
    {
     "name": "stdout",
     "output_type": "stream",
     "text": [
      "PREV_NAME_GOODS_CATEGORY_Auto Accessories_MEAN\n",
      "PREV_NAME_GOODS_CATEGORY_Clothing and Accessories_MEAN\n",
      "PREV_NAME_GOODS_CATEGORY_Computers_MEAN\n",
      "PREV_NAME_GOODS_CATEGORY_Construction Materials_MEAN\n",
      "PREV_NAME_GOODS_CATEGORY_Consumer Electronics_MEAN\n",
      "PREV_NAME_GOODS_CATEGORY_Direct Sales_MEAN\n",
      "PREV_NAME_GOODS_CATEGORY_Education_MEAN\n",
      "PREV_NAME_GOODS_CATEGORY_Fitness_MEAN\n",
      "PREV_NAME_GOODS_CATEGORY_Furniture_MEAN\n",
      "PREV_NAME_GOODS_CATEGORY_Gardening_MEAN\n",
      "PREV_NAME_GOODS_CATEGORY_Homewares_MEAN\n",
      "PREV_NAME_GOODS_CATEGORY_House Construction_MEAN\n",
      "PREV_NAME_GOODS_CATEGORY_Insurance_MEAN\n",
      "PREV_NAME_GOODS_CATEGORY_Jewelry_MEAN\n",
      "PREV_NAME_GOODS_CATEGORY_Medical Supplies_MEAN\n",
      "PREV_NAME_GOODS_CATEGORY_Medicine_MEAN\n",
      "PREV_NAME_GOODS_CATEGORY_Mobile_MEAN\n",
      "PREV_NAME_GOODS_CATEGORY_Office Appliances_MEAN\n",
      "PREV_NAME_GOODS_CATEGORY_Other_MEAN\n",
      "PREV_NAME_GOODS_CATEGORY_Photo / Cinema Equipment_MEAN\n",
      "PREV_NAME_GOODS_CATEGORY_Sport and Leisure_MEAN\n",
      "PREV_NAME_GOODS_CATEGORY_Tourism_MEAN\n",
      "PREV_NAME_GOODS_CATEGORY_Vehicles_MEAN\n",
      "PREV_NAME_GOODS_CATEGORY_Weapon_MEAN\n",
      "PREV_NAME_GOODS_CATEGORY_XNA_MEAN\n",
      "PREV_NAME_GOODS_CATEGORY_nan_MEAN\n",
      "PREV_NAME_PORTFOLIO_Cards_MEAN\n",
      "PREV_NAME_PORTFOLIO_Cars_MEAN\n",
      "PREV_NAME_PORTFOLIO_Cash_MEAN\n",
      "PREV_NAME_PORTFOLIO_POS_MEAN\n",
      "PREV_NAME_PORTFOLIO_XNA_MEAN\n",
      "PREV_NAME_PORTFOLIO_nan_MEAN\n",
      "PREV_NAME_PRODUCT_TYPE_XNA_MEAN\n",
      "PREV_NAME_PRODUCT_TYPE_walk-in_MEAN\n",
      "PREV_NAME_PRODUCT_TYPE_x-sell_MEAN\n",
      "PREV_NAME_PRODUCT_TYPE_nan_MEAN\n",
      "PREV_CHANNEL_TYPE_AP+ (Cash loan)_MEAN\n",
      "PREV_CHANNEL_TYPE_Car dealer_MEAN\n",
      "PREV_CHANNEL_TYPE_Channel of corporate sales_MEAN\n",
      "PREV_CHANNEL_TYPE_Contact center_MEAN\n",
      "PREV_CHANNEL_TYPE_Country-wide_MEAN\n",
      "PREV_CHANNEL_TYPE_Credit and cash offices_MEAN\n",
      "PREV_CHANNEL_TYPE_Regional / Local_MEAN\n",
      "PREV_CHANNEL_TYPE_Stone_MEAN\n",
      "PREV_CHANNEL_TYPE_nan_MEAN\n",
      "PREV_NAME_SELLER_INDUSTRY_Auto technology_MEAN\n",
      "PREV_NAME_SELLER_INDUSTRY_Clothing_MEAN\n",
      "PREV_NAME_SELLER_INDUSTRY_Connectivity_MEAN\n",
      "PREV_NAME_SELLER_INDUSTRY_Construction_MEAN\n",
      "PREV_NAME_SELLER_INDUSTRY_Consumer electronics_MEAN\n",
      "PREV_NAME_SELLER_INDUSTRY_Furniture_MEAN\n",
      "PREV_NAME_SELLER_INDUSTRY_Industry_MEAN\n",
      "PREV_NAME_SELLER_INDUSTRY_Jewelry_MEAN\n",
      "PREV_NAME_SELLER_INDUSTRY_MLM partners_MEAN\n",
      "PREV_NAME_SELLER_INDUSTRY_Tourism_MEAN\n",
      "PREV_NAME_SELLER_INDUSTRY_XNA_MEAN\n",
      "PREV_NAME_SELLER_INDUSTRY_nan_MEAN\n",
      "PREV_NAME_YIELD_GROUP_XNA_MEAN\n",
      "PREV_NAME_YIELD_GROUP_high_MEAN\n",
      "PREV_NAME_YIELD_GROUP_low_action_MEAN\n",
      "PREV_NAME_YIELD_GROUP_low_normal_MEAN\n",
      "PREV_NAME_YIELD_GROUP_middle_MEAN\n",
      "PREV_NAME_YIELD_GROUP_nan_MEAN\n",
      "PREV_PRODUCT_COMBINATION_Card Street_MEAN\n",
      "PREV_PRODUCT_COMBINATION_Card X-Sell_MEAN\n",
      "PREV_PRODUCT_COMBINATION_Cash_MEAN\n",
      "PREV_PRODUCT_COMBINATION_Cash Street: high_MEAN\n",
      "PREV_PRODUCT_COMBINATION_Cash Street: low_MEAN\n",
      "PREV_PRODUCT_COMBINATION_Cash Street: middle_MEAN\n",
      "PREV_PRODUCT_COMBINATION_Cash X-Sell: high_MEAN\n",
      "PREV_PRODUCT_COMBINATION_Cash X-Sell: low_MEAN\n",
      "PREV_PRODUCT_COMBINATION_Cash X-Sell: middle_MEAN\n",
      "PREV_PRODUCT_COMBINATION_POS household with interest_MEAN\n",
      "PREV_PRODUCT_COMBINATION_POS household without interest_MEAN\n",
      "PREV_PRODUCT_COMBINATION_POS industry with interest_MEAN\n",
      "PREV_PRODUCT_COMBINATION_POS industry without interest_MEAN\n",
      "PREV_PRODUCT_COMBINATION_POS mobile with interest_MEAN\n",
      "PREV_PRODUCT_COMBINATION_POS mobile without interest_MEAN\n",
      "PREV_PRODUCT_COMBINATION_POS other with interest_MEAN\n",
      "PREV_PRODUCT_COMBINATION_POS others without interest_MEAN\n",
      "PREV_PRODUCT_COMBINATION_nan_MEAN\n",
      "PREV_DAYS_FIRST_DRAWING_ANOM_MEAN\n",
      "PREV_DAYS_FIRST_DUE_ANOM_MEAN\n",
      "PREV_DAYS_LAST_DUE_1ST_VERSION_ANOM_MEAN\n",
      "PREV_DAYS_LAST_DUE_ANOM_MEAN\n",
      "PREV_DAYS_TERMINATION_ANOM_MEAN\n",
      "PREV_AMT_ANNUITY_MIN\n",
      "PREV_AMT_ANNUITY_MAX\n",
      "PREV_AMT_ANNUITY_MEAN\n",
      "PREV_AMT_APPLICATION_MIN\n",
      "PREV_AMT_APPLICATION_MAX\n",
      "PREV_AMT_APPLICATION_MEAN\n",
      "PREV_AMT_CREDIT_MIN\n",
      "PREV_AMT_CREDIT_MAX\n",
      "PREV_AMT_CREDIT_MEAN\n",
      "PREV_APP_CREDIT_PERC_MIN\n",
      "PREV_APP_CREDIT_PERC_MAX\n",
      "PREV_APP_CREDIT_PERC_MEAN\n",
      "PREV_APP_CREDIT_PERC_VAR\n",
      "PREV_AMT_DOWN_PAYMENT_MIN\n",
      "PREV_AMT_DOWN_PAYMENT_MAX\n",
      "PREV_AMT_DOWN_PAYMENT_MEAN\n",
      "PREV_AMT_GOODS_PRICE_MIN\n",
      "PREV_AMT_GOODS_PRICE_MAX\n",
      "PREV_AMT_GOODS_PRICE_MEAN\n",
      "PREV_HOUR_APPR_PROCESS_START_MIN\n",
      "PREV_HOUR_APPR_PROCESS_START_MAX\n",
      "PREV_HOUR_APPR_PROCESS_START_MEAN\n",
      "PREV_RATE_DOWN_PAYMENT_MIN\n",
      "PREV_RATE_DOWN_PAYMENT_MAX\n",
      "PREV_RATE_DOWN_PAYMENT_MEAN\n",
      "PREV_DAYS_DECISION_MIN\n",
      "PREV_DAYS_DECISION_MAX\n",
      "PREV_DAYS_DECISION_MEAN\n",
      "PREV_CNT_PAYMENT_MEAN\n",
      "PREV_CNT_PAYMENT_SUM\n",
      "PREV_PREV_APP_COUNTS_\n",
      "PREV_APPROVED_AMT_ANNUITY_MIN\n",
      "PREV_APPROVED_AMT_ANNUITY_MAX\n",
      "PREV_APPROVED_AMT_ANNUITY_MEAN\n",
      "PREV_APPROVED_AMT_APPLICATION_MIN\n",
      "PREV_APPROVED_AMT_APPLICATION_MAX\n",
      "PREV_APPROVED_AMT_APPLICATION_MEAN\n",
      "PREV_APPROVED_AMT_CREDIT_MIN\n",
      "PREV_APPROVED_AMT_CREDIT_MAX\n",
      "PREV_APPROVED_AMT_CREDIT_MEAN\n",
      "PREV_APPROVED_APP_CREDIT_PERC_MIN\n",
      "PREV_APPROVED_APP_CREDIT_PERC_MAX\n",
      "PREV_APPROVED_APP_CREDIT_PERC_MEAN\n",
      "PREV_APPROVED_APP_CREDIT_PERC_VAR\n",
      "PREV_APPROVED_AMT_DOWN_PAYMENT_MIN\n",
      "PREV_APPROVED_AMT_DOWN_PAYMENT_MAX\n",
      "PREV_APPROVED_AMT_DOWN_PAYMENT_MEAN\n",
      "PREV_APPROVED_AMT_GOODS_PRICE_MIN\n",
      "PREV_APPROVED_AMT_GOODS_PRICE_MAX\n",
      "PREV_APPROVED_AMT_GOODS_PRICE_MEAN\n",
      "PREV_APPROVED_HOUR_APPR_PROCESS_START_MIN\n",
      "PREV_APPROVED_HOUR_APPR_PROCESS_START_MAX\n",
      "PREV_APPROVED_HOUR_APPR_PROCESS_START_MEAN\n",
      "PREV_APPROVED_RATE_DOWN_PAYMENT_MIN\n",
      "PREV_APPROVED_RATE_DOWN_PAYMENT_MAX\n",
      "PREV_APPROVED_RATE_DOWN_PAYMENT_MEAN\n",
      "PREV_APPROVED_DAYS_DECISION_MIN\n",
      "PREV_APPROVED_DAYS_DECISION_MAX\n",
      "PREV_APPROVED_DAYS_DECISION_MEAN\n",
      "PREV_APPROVED_CNT_PAYMENT_MEAN\n",
      "PREV_APPROVED_CNT_PAYMENT_SUM\n",
      "PREV_AMT_ANNUITY_ANOM\n",
      "PREV_APP_CREDIT_PERC_ANOM\n",
      "PREV_AMT_DOWN_PAYMENT_ANOM\n",
      "PREV_RATE_DOWN_PAYMENT_ANOM\n",
      "PREV_CNT_PAYMENT_ANOM\n",
      "PREV_AMT_GOODS_PRICE_ANOM\n",
      "PREV_REFUSED_AMT_ANNUITY_MIN\n",
      "PREV_REFUSED_AMT_ANNUITY_MAX\n",
      "PREV_REFUSED_AMT_ANNUITY_MEAN\n",
      "PREV_REFUSED_AMT_APPLICATION_MIN\n",
      "PREV_REFUSED_AMT_APPLICATION_MAX\n",
      "PREV_REFUSED_AMT_APPLICATION_MEAN\n",
      "PREV_REFUSED_AMT_CREDIT_MIN\n",
      "PREV_REFUSED_AMT_CREDIT_MAX\n",
      "PREV_REFUSED_AMT_CREDIT_MEAN\n",
      "PREV_REFUSED_APP_CREDIT_PERC_MIN\n",
      "PREV_REFUSED_APP_CREDIT_PERC_MAX\n",
      "PREV_REFUSED_APP_CREDIT_PERC_MEAN\n",
      "PREV_REFUSED_APP_CREDIT_PERC_VAR\n",
      "PREV_REFUSED_AMT_DOWN_PAYMENT_MIN\n",
      "PREV_REFUSED_AMT_DOWN_PAYMENT_MAX\n",
      "PREV_REFUSED_AMT_DOWN_PAYMENT_MEAN\n",
      "PREV_REFUSED_AMT_GOODS_PRICE_MIN\n",
      "PREV_REFUSED_AMT_GOODS_PRICE_MAX\n",
      "PREV_REFUSED_AMT_GOODS_PRICE_MEAN\n",
      "PREV_REFUSED_HOUR_APPR_PROCESS_START_MIN\n",
      "PREV_REFUSED_HOUR_APPR_PROCESS_START_MAX\n",
      "PREV_REFUSED_HOUR_APPR_PROCESS_START_MEAN\n",
      "PREV_REFUSED_RATE_DOWN_PAYMENT_MIN\n",
      "PREV_REFUSED_RATE_DOWN_PAYMENT_MAX\n",
      "PREV_REFUSED_RATE_DOWN_PAYMENT_MEAN\n",
      "PREV_REFUSED_DAYS_DECISION_MIN\n",
      "PREV_REFUSED_DAYS_DECISION_MAX\n",
      "PREV_REFUSED_DAYS_DECISION_MEAN\n",
      "PREV_REFUSED_CNT_PAYMENT_MEAN\n",
      "PREV_REFUSED_CNT_PAYMENT_SUM\n",
      "APP_PREV_APP_NOT_AVAILABLE\n",
      "POS_MONTHS_BALANCE_MAX\n",
      "POS_MONTHS_BALANCE_MEAN\n",
      "POS_MONTHS_BALANCE_SIZE\n",
      "POS_SK_DPD_MAX\n",
      "POS_SK_DPD_MEAN\n",
      "POS_SK_DPD_DEF_MAX\n",
      "POS_SK_DPD_DEF_MEAN\n",
      "POS_NAME_CONTRACT_STATUS_Active_MEAN\n",
      "POS_NAME_CONTRACT_STATUS_Amortized debt_MEAN\n",
      "POS_NAME_CONTRACT_STATUS_Approved_MEAN\n",
      "POS_NAME_CONTRACT_STATUS_Canceled_MEAN\n",
      "POS_NAME_CONTRACT_STATUS_Completed_MEAN\n",
      "POS_NAME_CONTRACT_STATUS_Demand_MEAN\n",
      "POS_NAME_CONTRACT_STATUS_Returned to the store_MEAN\n",
      "POS_NAME_CONTRACT_STATUS_Signed_MEAN\n",
      "POS_NAME_CONTRACT_STATUS_XNA_MEAN\n",
      "POS_NAME_CONTRACT_STATUS_nan_MEAN\n",
      "POS_COUNT\n",
      "APP_POS_CASH_NOT_AVAILABLE\n",
      "INSTAL_NUM_INSTALMENT_VERSION_NUNIQUE\n",
      "INSTAL_DPD_MAX\n",
      "INSTAL_DPD_MEAN\n",
      "INSTAL_DPD_SUM\n",
      "INSTAL_DBD_MAX\n",
      "INSTAL_DBD_MEAN\n",
      "INSTAL_DBD_SUM\n",
      "INSTAL_PAYMENT_PERC_MAX\n",
      "INSTAL_PAYMENT_PERC_MEAN\n",
      "INSTAL_PAYMENT_PERC_SUM\n",
      "INSTAL_PAYMENT_PERC_VAR\n",
      "INSTAL_PAYMENT_DIFF_MAX\n",
      "INSTAL_PAYMENT_DIFF_MEAN\n",
      "INSTAL_PAYMENT_DIFF_SUM\n",
      "INSTAL_PAYMENT_DIFF_VAR\n",
      "INSTAL_AMT_INSTALMENT_MAX\n",
      "INSTAL_AMT_INSTALMENT_MEAN\n",
      "INSTAL_AMT_INSTALMENT_SUM\n",
      "INSTAL_AMT_PAYMENT_MIN\n",
      "INSTAL_AMT_PAYMENT_MAX\n",
      "INSTAL_AMT_PAYMENT_MEAN\n",
      "INSTAL_AMT_PAYMENT_SUM\n",
      "INSTAL_DAYS_ENTRY_PAYMENT_MAX\n",
      "INSTAL_DAYS_ENTRY_PAYMENT_MEAN\n",
      "INSTAL_DAYS_ENTRY_PAYMENT_SUM\n",
      "INSTAL_COUNT\n",
      "INSTAL_PAYMENT_PERC_VAR_ANOM\n",
      "INSTAL_PAYMENT_DIFF_VAR_ANOM\n",
      "APP_INS_PAY_NOT_AVAILABLE\n",
      "CC_MONTHS_BALANCE_MIN\n",
      "CC_MONTHS_BALANCE_MAX\n",
      "CC_MONTHS_BALANCE_MEAN\n",
      "CC_MONTHS_BALANCE_SUM\n",
      "CC_MONTHS_BALANCE_VAR\n",
      "CC_AMT_BALANCE_MIN\n",
      "CC_AMT_BALANCE_MAX\n",
      "CC_AMT_BALANCE_MEAN\n",
      "CC_AMT_BALANCE_SUM\n",
      "CC_AMT_BALANCE_VAR\n",
      "CC_AMT_CREDIT_LIMIT_ACTUAL_MIN\n",
      "CC_AMT_CREDIT_LIMIT_ACTUAL_MAX\n",
      "CC_AMT_CREDIT_LIMIT_ACTUAL_MEAN\n",
      "CC_AMT_CREDIT_LIMIT_ACTUAL_SUM\n",
      "CC_AMT_CREDIT_LIMIT_ACTUAL_VAR\n",
      "CC_AMT_DRAWINGS_ATM_CURRENT_MIN\n",
      "CC_AMT_DRAWINGS_ATM_CURRENT_MAX\n",
      "CC_AMT_DRAWINGS_ATM_CURRENT_MEAN\n",
      "CC_AMT_DRAWINGS_ATM_CURRENT_SUM\n",
      "CC_AMT_DRAWINGS_ATM_CURRENT_VAR\n",
      "CC_AMT_DRAWINGS_CURRENT_MIN\n",
      "CC_AMT_DRAWINGS_CURRENT_MAX\n",
      "CC_AMT_DRAWINGS_CURRENT_MEAN\n",
      "CC_AMT_DRAWINGS_CURRENT_SUM\n",
      "CC_AMT_DRAWINGS_CURRENT_VAR\n",
      "CC_AMT_DRAWINGS_OTHER_CURRENT_MIN\n",
      "CC_AMT_DRAWINGS_OTHER_CURRENT_MAX\n"
     ]
    },
    {
     "name": "stdout",
     "output_type": "stream",
     "text": [
      "CC_AMT_DRAWINGS_OTHER_CURRENT_MEAN\n",
      "CC_AMT_DRAWINGS_OTHER_CURRENT_SUM\n",
      "CC_AMT_DRAWINGS_OTHER_CURRENT_VAR\n",
      "CC_AMT_DRAWINGS_POS_CURRENT_MIN\n",
      "CC_AMT_DRAWINGS_POS_CURRENT_MAX\n",
      "CC_AMT_DRAWINGS_POS_CURRENT_MEAN\n",
      "CC_AMT_DRAWINGS_POS_CURRENT_SUM\n",
      "CC_AMT_DRAWINGS_POS_CURRENT_VAR\n",
      "CC_AMT_INST_MIN_REGULARITY_MIN\n",
      "CC_AMT_INST_MIN_REGULARITY_MAX\n",
      "CC_AMT_INST_MIN_REGULARITY_MEAN\n",
      "CC_AMT_INST_MIN_REGULARITY_SUM\n",
      "CC_AMT_INST_MIN_REGULARITY_VAR\n",
      "CC_AMT_PAYMENT_CURRENT_MIN\n",
      "CC_AMT_PAYMENT_CURRENT_MAX\n",
      "CC_AMT_PAYMENT_CURRENT_MEAN\n",
      "CC_AMT_PAYMENT_CURRENT_SUM\n",
      "CC_AMT_PAYMENT_CURRENT_VAR\n",
      "CC_AMT_PAYMENT_TOTAL_CURRENT_MIN\n",
      "CC_AMT_PAYMENT_TOTAL_CURRENT_MAX\n",
      "CC_AMT_PAYMENT_TOTAL_CURRENT_MEAN\n",
      "CC_AMT_PAYMENT_TOTAL_CURRENT_SUM\n",
      "CC_AMT_PAYMENT_TOTAL_CURRENT_VAR\n",
      "CC_AMT_RECEIVABLE_PRINCIPAL_MIN\n",
      "CC_AMT_RECEIVABLE_PRINCIPAL_MAX\n",
      "CC_AMT_RECEIVABLE_PRINCIPAL_MEAN\n",
      "CC_AMT_RECEIVABLE_PRINCIPAL_SUM\n",
      "CC_AMT_RECEIVABLE_PRINCIPAL_VAR\n",
      "CC_AMT_RECIVABLE_MIN\n",
      "CC_AMT_RECIVABLE_MAX\n",
      "CC_AMT_RECIVABLE_MEAN\n",
      "CC_AMT_RECIVABLE_SUM\n",
      "CC_AMT_RECIVABLE_VAR\n",
      "CC_AMT_TOTAL_RECEIVABLE_MIN\n",
      "CC_AMT_TOTAL_RECEIVABLE_MAX\n",
      "CC_AMT_TOTAL_RECEIVABLE_MEAN\n",
      "CC_AMT_TOTAL_RECEIVABLE_SUM\n",
      "CC_AMT_TOTAL_RECEIVABLE_VAR\n",
      "CC_CNT_DRAWINGS_ATM_CURRENT_MIN\n",
      "CC_CNT_DRAWINGS_ATM_CURRENT_MAX\n",
      "CC_CNT_DRAWINGS_ATM_CURRENT_MEAN\n",
      "CC_CNT_DRAWINGS_ATM_CURRENT_SUM\n",
      "CC_CNT_DRAWINGS_ATM_CURRENT_VAR\n",
      "CC_CNT_DRAWINGS_CURRENT_MIN\n",
      "CC_CNT_DRAWINGS_CURRENT_MAX\n",
      "CC_CNT_DRAWINGS_CURRENT_MEAN\n",
      "CC_CNT_DRAWINGS_CURRENT_SUM\n",
      "CC_CNT_DRAWINGS_CURRENT_VAR\n",
      "CC_CNT_DRAWINGS_OTHER_CURRENT_MIN\n",
      "CC_CNT_DRAWINGS_OTHER_CURRENT_MAX\n",
      "CC_CNT_DRAWINGS_OTHER_CURRENT_MEAN\n",
      "CC_CNT_DRAWINGS_OTHER_CURRENT_SUM\n",
      "CC_CNT_DRAWINGS_OTHER_CURRENT_VAR\n",
      "CC_CNT_DRAWINGS_POS_CURRENT_MIN\n",
      "CC_CNT_DRAWINGS_POS_CURRENT_MAX\n",
      "CC_CNT_DRAWINGS_POS_CURRENT_MEAN\n",
      "CC_CNT_DRAWINGS_POS_CURRENT_SUM\n",
      "CC_CNT_DRAWINGS_POS_CURRENT_VAR\n",
      "CC_CNT_INSTALMENT_MATURE_CUM_MIN\n",
      "CC_CNT_INSTALMENT_MATURE_CUM_MAX\n",
      "CC_CNT_INSTALMENT_MATURE_CUM_MEAN\n",
      "CC_CNT_INSTALMENT_MATURE_CUM_SUM\n",
      "CC_CNT_INSTALMENT_MATURE_CUM_VAR\n",
      "CC_SK_DPD_MIN\n",
      "CC_SK_DPD_MAX\n",
      "CC_SK_DPD_MEAN\n",
      "CC_SK_DPD_SUM\n",
      "CC_SK_DPD_VAR\n",
      "CC_SK_DPD_DEF_MIN\n",
      "CC_SK_DPD_DEF_MAX\n",
      "CC_SK_DPD_DEF_MEAN\n",
      "CC_SK_DPD_DEF_SUM\n",
      "CC_SK_DPD_DEF_VAR\n",
      "CC_NAME_CONTRACT_STATUS_Active_MIN\n",
      "CC_NAME_CONTRACT_STATUS_Active_MAX\n",
      "CC_NAME_CONTRACT_STATUS_Active_MEAN\n",
      "CC_NAME_CONTRACT_STATUS_Active_SUM\n",
      "CC_NAME_CONTRACT_STATUS_Active_VAR\n",
      "CC_NAME_CONTRACT_STATUS_Approved_MIN\n",
      "CC_NAME_CONTRACT_STATUS_Approved_MAX\n",
      "CC_NAME_CONTRACT_STATUS_Approved_MEAN\n",
      "CC_NAME_CONTRACT_STATUS_Approved_SUM\n",
      "CC_NAME_CONTRACT_STATUS_Approved_VAR\n",
      "CC_NAME_CONTRACT_STATUS_Completed_MIN\n",
      "CC_NAME_CONTRACT_STATUS_Completed_MAX\n",
      "CC_NAME_CONTRACT_STATUS_Completed_MEAN\n",
      "CC_NAME_CONTRACT_STATUS_Completed_SUM\n",
      "CC_NAME_CONTRACT_STATUS_Completed_VAR\n",
      "CC_NAME_CONTRACT_STATUS_Demand_MIN\n",
      "CC_NAME_CONTRACT_STATUS_Demand_MAX\n",
      "CC_NAME_CONTRACT_STATUS_Demand_MEAN\n",
      "CC_NAME_CONTRACT_STATUS_Demand_SUM\n",
      "CC_NAME_CONTRACT_STATUS_Demand_VAR\n",
      "CC_NAME_CONTRACT_STATUS_Refused_MIN\n",
      "CC_NAME_CONTRACT_STATUS_Refused_MAX\n",
      "CC_NAME_CONTRACT_STATUS_Refused_MEAN\n",
      "CC_NAME_CONTRACT_STATUS_Refused_SUM\n",
      "CC_NAME_CONTRACT_STATUS_Refused_VAR\n",
      "CC_NAME_CONTRACT_STATUS_Sent proposal_MIN\n",
      "CC_NAME_CONTRACT_STATUS_Sent proposal_MAX\n",
      "CC_NAME_CONTRACT_STATUS_Sent proposal_MEAN\n",
      "CC_NAME_CONTRACT_STATUS_Sent proposal_SUM\n",
      "CC_NAME_CONTRACT_STATUS_Sent proposal_VAR\n",
      "CC_NAME_CONTRACT_STATUS_Signed_MIN\n",
      "CC_NAME_CONTRACT_STATUS_Signed_MAX\n",
      "CC_NAME_CONTRACT_STATUS_Signed_MEAN\n",
      "CC_NAME_CONTRACT_STATUS_Signed_SUM\n",
      "CC_NAME_CONTRACT_STATUS_Signed_VAR\n",
      "CC_NAME_CONTRACT_STATUS_nan_MIN\n",
      "CC_NAME_CONTRACT_STATUS_nan_MAX\n",
      "CC_NAME_CONTRACT_STATUS_nan_MEAN\n",
      "CC_NAME_CONTRACT_STATUS_nan_SUM\n",
      "CC_NAME_CONTRACT_STATUS_nan_VAR\n",
      "CC_CC_AMT_PAYMENT_CURRENT_ANOM_MIN\n",
      "CC_CC_AMT_PAYMENT_CURRENT_ANOM_MAX\n",
      "CC_CC_AMT_PAYMENT_CURRENT_ANOM_MEAN\n",
      "CC_CC_AMT_PAYMENT_CURRENT_ANOM_SUM\n",
      "CC_CC_AMT_PAYMENT_CURRENT_ANOM_VAR\n",
      "CC_CC_CNT_DRAWINGS_ANOM_MIN\n",
      "CC_CC_CNT_DRAWINGS_ANOM_MAX\n",
      "CC_CC_CNT_DRAWINGS_ANOM_MEAN\n",
      "CC_CC_CNT_DRAWINGS_ANOM_SUM\n",
      "CC_CC_CNT_DRAWINGS_ANOM_VAR\n",
      "CC_CC_INSTALMENT_ANOM_MIN\n",
      "CC_CC_INSTALMENT_ANOM_MAX\n",
      "CC_CC_INSTALMENT_ANOM_MEAN\n",
      "CC_CC_INSTALMENT_ANOM_SUM\n",
      "CC_CC_INSTALMENT_ANOM_VAR\n",
      "CC_COUNT\n",
      "CC_VAR_ANOM\n",
      "APP_CC_NOT_AVAILABLE\n"
     ]
    }
   ],
   "source": [
    "mask = data.isin([np.inf, -np.inf])\n",
    "for c in data.columns:\n",
    "    if mask[c].any():\n",
    "        data.loc[mask[c], c] = data.loc[~mask[c], c].mean()"
   ]
  },
  {
   "cell_type": "code",
   "execution_count": null,
   "metadata": {},
   "outputs": [],
   "source": [
    "data['']"
   ]
  },
  {
   "cell_type": "code",
   "execution_count": 2,
   "metadata": {},
   "outputs": [
    {
     "data": {
      "text/plain": [
       "7"
      ]
     },
     "execution_count": 2,
     "metadata": {},
     "output_type": "execute_result"
    }
   ],
   "source": [
    "data = pd.read_csv(get_file('model_train'), index_col='SK_ID_CURR')\n",
    "\n",
    "mask = data.isin([np.inf, -np.inf])\n",
    "for c in data.columns:\n",
    "    if mask[c].any():\n",
    "        data.loc[mask[c], c] = data.loc[~mask[c], c].mean()\n",
    "\n",
    "data.to_csv(get_file('model_train'))\n",
    "\n",
    "del data, mask\n",
    "gc.collect()"
   ]
  },
  {
   "cell_type": "code",
   "execution_count": 3,
   "metadata": {},
   "outputs": [
    {
     "data": {
      "text/plain": [
       "14"
      ]
     },
     "execution_count": 3,
     "metadata": {},
     "output_type": "execute_result"
    }
   ],
   "source": [
    "data = pd.read_csv(get_file('model_eval'), index_col='SK_ID_CURR')\n",
    "\n",
    "mask = data.isin([np.inf, -np.inf])\n",
    "for c in data.columns:\n",
    "    if mask[c].any():\n",
    "        data.loc[mask[c], c] = data.loc[~mask[c], c].mean()\n",
    "        \n",
    "data.to_csv(get_file('model_eval'))\n",
    "\n",
    "del data, mask\n",
    "gc.collect()"
   ]
  },
  {
   "cell_type": "code",
   "execution_count": 4,
   "metadata": {},
   "outputs": [
    {
     "data": {
      "text/plain": [
       "7"
      ]
     },
     "execution_count": 4,
     "metadata": {},
     "output_type": "execute_result"
    }
   ],
   "source": [
    "data = pd.read_csv(get_file('model_test'), index_col='SK_ID_CURR')\n",
    "\n",
    "mask = data.isin([np.inf, -np.inf])\n",
    "for c in data.columns:\n",
    "    if mask[c].any():\n",
    "        data.loc[mask[c], c] = data.loc[~mask[c], c].mean()\n",
    "\n",
    "data.to_csv(get_file('model_test'))\n",
    "\n",
    "del data, mask\n",
    "gc.collect()"
   ]
  },
  {
   "cell_type": "raw",
   "metadata": {},
   "source": []
  },
  {
   "cell_type": "code",
   "execution_count": 25,
   "metadata": {},
   "outputs": [],
   "source": [
    "isinf = {}\n",
    "for c in data.columns:\n",
    "    mask = data[c] == np.inf\n",
    "    isinf[c] = mask.sum()"
   ]
  },
  {
   "cell_type": "code",
   "execution_count": 27,
   "metadata": {
    "scrolled": true
   },
   "outputs": [
    {
     "data": {
      "text/plain": [
       "True"
      ]
     },
     "execution_count": 27,
     "metadata": {},
     "output_type": "execute_result"
    }
   ],
   "source": [
    "mask = data['PREV_APP_CREDIT_PERC_MAX'] == np.inf\n",
    "mask.any()"
   ]
  },
  {
   "cell_type": "code",
   "execution_count": null,
   "metadata": {},
   "outputs": [],
   "source": [
    "sorted(isinf.items(), key=lambda kv: kv[1], reverse=True)"
   ]
  },
  {
   "cell_type": "code",
   "execution_count": null,
   "metadata": {},
   "outputs": [],
   "source": [
    "train_data['PREV_APP_CREDIT_PERC_MAX']"
   ]
  }
 ],
 "metadata": {
  "kernelspec": {
   "display_name": "Python 3",
   "language": "python",
   "name": "python3"
  },
  "language_info": {
   "codemirror_mode": {
    "name": "ipython",
    "version": 3
   },
   "file_extension": ".py",
   "mimetype": "text/x-python",
   "name": "python",
   "nbconvert_exporter": "python",
   "pygments_lexer": "ipython3",
   "version": "3.6.3"
  }
 },
 "nbformat": 4,
 "nbformat_minor": 2
}
